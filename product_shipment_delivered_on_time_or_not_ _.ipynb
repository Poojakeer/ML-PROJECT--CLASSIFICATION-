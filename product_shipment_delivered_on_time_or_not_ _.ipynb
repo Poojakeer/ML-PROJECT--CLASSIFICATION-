{
  "cells": [
    {
      "cell_type": "markdown",
      "metadata": {
        "id": "defd1391"
      },
      "source": [
        "# E-Commerce Shipping Dataset : Data Pre-Processing\n",
        "\n",
        "### Product Shipment Delivered on time or not ; To Meet E-Commerce Customer Demand\n",
        "\n",
        "\n",
        "The data contains the following information:  \n",
        "1. **ID** : ID Number of Customers.\n",
        "2. **Warehouse block** : The Company have big Warehouse which is divided in to block such as A,B,C,D,E.\n",
        "3. **Mode of shipment** :The Company Ships the products in multiple way such as Ship, Flight and Road.\n",
        "4. **Customer care calls** : The number of calls made from enquiry for enquiry of the shipment.\n",
        "5. **Customer rating** : The company has rated from every customer. 1 is the lowest (Worst), 5 is the highest (Best).\n",
        "6. **Cost of the product** : Cost of the Product in US Dollars.\n",
        "7. **Prior purchases** : The Number of Prior Purchase.\n",
        "8. **Product importance** : The company has categorized the product in the various parameter such as low, medium, high.\n",
        "9. **Gender** : Male and Female.\n",
        "10. **Discount offered** : Discount offered on that specific product. \n",
        "11. **Weight in gms** : It is the weight in grams.\n",
        "12. **Reached on time** : It is the target variable, where 1 Indicates that the\n",
        "product has NOT reached on time and 0 indicates it has reached on time.\n"
      ],
      "id": "defd1391"
    },
    {
      "cell_type": "markdown",
      "metadata": {
        "id": "267006d4"
      },
      "source": [
        "# Data Pre-processing"
      ],
      "id": "267006d4"
    },
    {
      "cell_type": "markdown",
      "metadata": {
        "id": "c61e46bc"
      },
      "source": [
        "## Load & Describe Data"
      ],
      "id": "c61e46bc"
    },
    {
      "cell_type": "markdown",
      "metadata": {
        "id": "784e029c"
      },
      "source": [
        "### Import library"
      ],
      "id": "784e029c"
    },
    {
      "cell_type": "code",
      "execution_count": null,
      "metadata": {
        "id": "29b61b37"
      },
      "outputs": [],
      "source": [
        "import numpy as np\n",
        "import pandas as pd\n",
        "#Visualization\n",
        "import matplotlib.pyplot as plt\n",
        "import matplotlib.style as style\n",
        "style.use('fivethirtyeight') # use style fivethirtyeight\n",
        "import seaborn as sns\n",
        "from matplotlib import rcParams\n",
        "import warnings \n",
        "warnings.filterwarnings(\"ignore\")\n",
        "# Scaling\n",
        "from sklearn.preprocessing import MinMaxScaler, StandardScaler\n",
        "# Selection\n",
        "from scipy.stats import chi2_contingency\n",
        "# Splitting the data into Train and Test\n",
        "from sklearn.model_selection import train_test_split\n",
        "# Algorithm\n",
        "from sklearn.linear_model import LogisticRegression\n",
        "from sklearn.tree import DecisionTreeClassifier\n",
        "from sklearn.svm import SVC\n",
        "from xgboost import XGBClassifier\n",
        "from sklearn.neighbors import KNeighborsClassifier\n",
        "from sklearn.ensemble import RandomForestClassifier\n",
        "from sklearn.naive_bayes import GaussianNB\n",
        "# Evaluation metrics\n",
        "from sklearn.metrics import accuracy_score, precision_score, recall_score, f1_score\n",
        "from sklearn.metrics import roc_curve, auc, confusion_matrix, classification_report\n",
        "from sklearn.metrics import ConfusionMatrixDisplay\n",
        "# Hyperparameter tuning\n",
        "from sklearn.model_selection import RandomizedSearchCV, GridSearchCV"
      ],
      "id": "29b61b37"
    },
    {
      "cell_type": "markdown",
      "metadata": {
        "id": "68e96d84"
      },
      "source": [
        "### Import file"
      ],
      "id": "68e96d84"
    },
    {
      "cell_type": "code",
      "execution_count": null,
      "metadata": {
        "id": "7cddd712"
      },
      "outputs": [],
      "source": [
        "df = pd.read_csv('/content/Train .csv')"
      ],
      "id": "7cddd712"
    },
    {
      "cell_type": "markdown",
      "metadata": {
        "id": "daa4586c"
      },
      "source": [
        "### Rename column target"
      ],
      "id": "daa4586c"
    },
    {
      "cell_type": "code",
      "execution_count": null,
      "metadata": {
        "colab": {
          "base_uri": "https://localhost:8080/",
          "height": 270
        },
        "id": "f51c20b4",
        "outputId": "9d6c21d6-402b-4eb4-a075-deaa2ed43675"
      },
      "outputs": [
        {
          "output_type": "execute_result",
          "data": {
            "text/plain": [
              "   ID Warehouse_block Mode_of_Shipment  Customer_care_calls  Customer_rating  \\\n",
              "0   1               D           Flight                    4                2   \n",
              "1   2               F           Flight                    4                5   \n",
              "2   3               A           Flight                    2                2   \n",
              "3   4               B           Flight                    3                3   \n",
              "4   5               C           Flight                    2                2   \n",
              "\n",
              "   Cost_of_the_Product  Prior_purchases Product_importance Gender  \\\n",
              "0                  177                3                low      F   \n",
              "1                  216                2                low      M   \n",
              "2                  183                4                low      M   \n",
              "3                  176                4             medium      M   \n",
              "4                  184                3             medium      F   \n",
              "\n",
              "   Discount_offered  Weight_in_gms  is_late  \n",
              "0                44           1233        1  \n",
              "1                59           3088        1  \n",
              "2                48           3374        1  \n",
              "3                10           1177        1  \n",
              "4                46           2484        1  "
            ],
            "text/html": [
              "\n",
              "  <div id=\"df-19eb0de8-2b8e-459f-a3a3-3e8aea1e9825\">\n",
              "    <div class=\"colab-df-container\">\n",
              "      <div>\n",
              "<style scoped>\n",
              "    .dataframe tbody tr th:only-of-type {\n",
              "        vertical-align: middle;\n",
              "    }\n",
              "\n",
              "    .dataframe tbody tr th {\n",
              "        vertical-align: top;\n",
              "    }\n",
              "\n",
              "    .dataframe thead th {\n",
              "        text-align: right;\n",
              "    }\n",
              "</style>\n",
              "<table border=\"1\" class=\"dataframe\">\n",
              "  <thead>\n",
              "    <tr style=\"text-align: right;\">\n",
              "      <th></th>\n",
              "      <th>ID</th>\n",
              "      <th>Warehouse_block</th>\n",
              "      <th>Mode_of_Shipment</th>\n",
              "      <th>Customer_care_calls</th>\n",
              "      <th>Customer_rating</th>\n",
              "      <th>Cost_of_the_Product</th>\n",
              "      <th>Prior_purchases</th>\n",
              "      <th>Product_importance</th>\n",
              "      <th>Gender</th>\n",
              "      <th>Discount_offered</th>\n",
              "      <th>Weight_in_gms</th>\n",
              "      <th>is_late</th>\n",
              "    </tr>\n",
              "  </thead>\n",
              "  <tbody>\n",
              "    <tr>\n",
              "      <th>0</th>\n",
              "      <td>1</td>\n",
              "      <td>D</td>\n",
              "      <td>Flight</td>\n",
              "      <td>4</td>\n",
              "      <td>2</td>\n",
              "      <td>177</td>\n",
              "      <td>3</td>\n",
              "      <td>low</td>\n",
              "      <td>F</td>\n",
              "      <td>44</td>\n",
              "      <td>1233</td>\n",
              "      <td>1</td>\n",
              "    </tr>\n",
              "    <tr>\n",
              "      <th>1</th>\n",
              "      <td>2</td>\n",
              "      <td>F</td>\n",
              "      <td>Flight</td>\n",
              "      <td>4</td>\n",
              "      <td>5</td>\n",
              "      <td>216</td>\n",
              "      <td>2</td>\n",
              "      <td>low</td>\n",
              "      <td>M</td>\n",
              "      <td>59</td>\n",
              "      <td>3088</td>\n",
              "      <td>1</td>\n",
              "    </tr>\n",
              "    <tr>\n",
              "      <th>2</th>\n",
              "      <td>3</td>\n",
              "      <td>A</td>\n",
              "      <td>Flight</td>\n",
              "      <td>2</td>\n",
              "      <td>2</td>\n",
              "      <td>183</td>\n",
              "      <td>4</td>\n",
              "      <td>low</td>\n",
              "      <td>M</td>\n",
              "      <td>48</td>\n",
              "      <td>3374</td>\n",
              "      <td>1</td>\n",
              "    </tr>\n",
              "    <tr>\n",
              "      <th>3</th>\n",
              "      <td>4</td>\n",
              "      <td>B</td>\n",
              "      <td>Flight</td>\n",
              "      <td>3</td>\n",
              "      <td>3</td>\n",
              "      <td>176</td>\n",
              "      <td>4</td>\n",
              "      <td>medium</td>\n",
              "      <td>M</td>\n",
              "      <td>10</td>\n",
              "      <td>1177</td>\n",
              "      <td>1</td>\n",
              "    </tr>\n",
              "    <tr>\n",
              "      <th>4</th>\n",
              "      <td>5</td>\n",
              "      <td>C</td>\n",
              "      <td>Flight</td>\n",
              "      <td>2</td>\n",
              "      <td>2</td>\n",
              "      <td>184</td>\n",
              "      <td>3</td>\n",
              "      <td>medium</td>\n",
              "      <td>F</td>\n",
              "      <td>46</td>\n",
              "      <td>2484</td>\n",
              "      <td>1</td>\n",
              "    </tr>\n",
              "  </tbody>\n",
              "</table>\n",
              "</div>\n",
              "      <button class=\"colab-df-convert\" onclick=\"convertToInteractive('df-19eb0de8-2b8e-459f-a3a3-3e8aea1e9825')\"\n",
              "              title=\"Convert this dataframe to an interactive table.\"\n",
              "              style=\"display:none;\">\n",
              "        \n",
              "  <svg xmlns=\"http://www.w3.org/2000/svg\" height=\"24px\"viewBox=\"0 0 24 24\"\n",
              "       width=\"24px\">\n",
              "    <path d=\"M0 0h24v24H0V0z\" fill=\"none\"/>\n",
              "    <path d=\"M18.56 5.44l.94 2.06.94-2.06 2.06-.94-2.06-.94-.94-2.06-.94 2.06-2.06.94zm-11 1L8.5 8.5l.94-2.06 2.06-.94-2.06-.94L8.5 2.5l-.94 2.06-2.06.94zm10 10l.94 2.06.94-2.06 2.06-.94-2.06-.94-.94-2.06-.94 2.06-2.06.94z\"/><path d=\"M17.41 7.96l-1.37-1.37c-.4-.4-.92-.59-1.43-.59-.52 0-1.04.2-1.43.59L10.3 9.45l-7.72 7.72c-.78.78-.78 2.05 0 2.83L4 21.41c.39.39.9.59 1.41.59.51 0 1.02-.2 1.41-.59l7.78-7.78 2.81-2.81c.8-.78.8-2.07 0-2.86zM5.41 20L4 18.59l7.72-7.72 1.47 1.35L5.41 20z\"/>\n",
              "  </svg>\n",
              "      </button>\n",
              "      \n",
              "  <style>\n",
              "    .colab-df-container {\n",
              "      display:flex;\n",
              "      flex-wrap:wrap;\n",
              "      gap: 12px;\n",
              "    }\n",
              "\n",
              "    .colab-df-convert {\n",
              "      background-color: #E8F0FE;\n",
              "      border: none;\n",
              "      border-radius: 50%;\n",
              "      cursor: pointer;\n",
              "      display: none;\n",
              "      fill: #1967D2;\n",
              "      height: 32px;\n",
              "      padding: 0 0 0 0;\n",
              "      width: 32px;\n",
              "    }\n",
              "\n",
              "    .colab-df-convert:hover {\n",
              "      background-color: #E2EBFA;\n",
              "      box-shadow: 0px 1px 2px rgba(60, 64, 67, 0.3), 0px 1px 3px 1px rgba(60, 64, 67, 0.15);\n",
              "      fill: #174EA6;\n",
              "    }\n",
              "\n",
              "    [theme=dark] .colab-df-convert {\n",
              "      background-color: #3B4455;\n",
              "      fill: #D2E3FC;\n",
              "    }\n",
              "\n",
              "    [theme=dark] .colab-df-convert:hover {\n",
              "      background-color: #434B5C;\n",
              "      box-shadow: 0px 1px 3px 1px rgba(0, 0, 0, 0.15);\n",
              "      filter: drop-shadow(0px 1px 2px rgba(0, 0, 0, 0.3));\n",
              "      fill: #FFFFFF;\n",
              "    }\n",
              "  </style>\n",
              "\n",
              "      <script>\n",
              "        const buttonEl =\n",
              "          document.querySelector('#df-19eb0de8-2b8e-459f-a3a3-3e8aea1e9825 button.colab-df-convert');\n",
              "        buttonEl.style.display =\n",
              "          google.colab.kernel.accessAllowed ? 'block' : 'none';\n",
              "\n",
              "        async function convertToInteractive(key) {\n",
              "          const element = document.querySelector('#df-19eb0de8-2b8e-459f-a3a3-3e8aea1e9825');\n",
              "          const dataTable =\n",
              "            await google.colab.kernel.invokeFunction('convertToInteractive',\n",
              "                                                     [key], {});\n",
              "          if (!dataTable) return;\n",
              "\n",
              "          const docLinkHtml = 'Like what you see? Visit the ' +\n",
              "            '<a target=\"_blank\" href=https://colab.research.google.com/notebooks/data_table.ipynb>data table notebook</a>'\n",
              "            + ' to learn more about interactive tables.';\n",
              "          element.innerHTML = '';\n",
              "          dataTable['output_type'] = 'display_data';\n",
              "          await google.colab.output.renderOutput(dataTable, element);\n",
              "          const docLink = document.createElement('div');\n",
              "          docLink.innerHTML = docLinkHtml;\n",
              "          element.appendChild(docLink);\n",
              "        }\n",
              "      </script>\n",
              "    </div>\n",
              "  </div>\n",
              "  "
            ]
          },
          "metadata": {},
          "execution_count": 3
        }
      ],
      "source": [
        "df.rename(columns={'Reached.on.Time_Y.N':'is_late'}, inplace=True)\n",
        "df.head()"
      ],
      "id": "f51c20b4"
    },
    {
      "cell_type": "markdown",
      "metadata": {
        "id": "068a1a82"
      },
      "source": [
        "Because of the target's name is too long, so we simplify the name to ease the next step."
      ],
      "id": "068a1a82"
    },
    {
      "cell_type": "markdown",
      "metadata": {
        "id": "5d374a85"
      },
      "source": [
        "### Get the shape of dataset"
      ],
      "id": "5d374a85"
    },
    {
      "cell_type": "code",
      "execution_count": null,
      "metadata": {
        "colab": {
          "base_uri": "https://localhost:8080/"
        },
        "id": "a8381b2f",
        "outputId": "2e3097a3-209e-4ed0-84f3-5d95a80543bd"
      },
      "outputs": [
        {
          "output_type": "execute_result",
          "data": {
            "text/plain": [
              "(10999, 12)"
            ]
          },
          "metadata": {},
          "execution_count": 4
        }
      ],
      "source": [
        "df.shape"
      ],
      "id": "a8381b2f"
    },
    {
      "cell_type": "markdown",
      "metadata": {
        "id": "158fd610"
      },
      "source": [
        "### Get list of columns"
      ],
      "id": "158fd610"
    },
    {
      "cell_type": "code",
      "execution_count": null,
      "metadata": {
        "colab": {
          "base_uri": "https://localhost:8080/"
        },
        "id": "1b8d459f",
        "outputId": "0f60fc51-4b46-44f7-ae52-7098d0adb1ec"
      },
      "outputs": [
        {
          "output_type": "execute_result",
          "data": {
            "text/plain": [
              "Index(['ID', 'Warehouse_block', 'Mode_of_Shipment', 'Customer_care_calls',\n",
              "       'Customer_rating', 'Cost_of_the_Product', 'Prior_purchases',\n",
              "       'Product_importance', 'Gender', 'Discount_offered', 'Weight_in_gms',\n",
              "       'is_late'],\n",
              "      dtype='object')"
            ]
          },
          "metadata": {},
          "execution_count": 5
        }
      ],
      "source": [
        "df.columns"
      ],
      "id": "1b8d459f"
    },
    {
      "cell_type": "markdown",
      "metadata": {
        "id": "3a106ac2"
      },
      "source": [
        "### Change all column names to lower case"
      ],
      "id": "3a106ac2"
    },
    {
      "cell_type": "code",
      "execution_count": null,
      "metadata": {
        "id": "86696364"
      },
      "outputs": [],
      "source": [
        "df.columns = df.columns.str.lower()"
      ],
      "id": "86696364"
    },
    {
      "cell_type": "markdown",
      "metadata": {
        "id": "83ccc158"
      },
      "source": [
        "### Get dataset information"
      ],
      "id": "83ccc158"
    },
    {
      "cell_type": "code",
      "execution_count": null,
      "metadata": {
        "colab": {
          "base_uri": "https://localhost:8080/"
        },
        "id": "b098a85a",
        "outputId": "20ab9aa6-3e5b-4eff-b31c-583f582ca153"
      },
      "outputs": [
        {
          "output_type": "stream",
          "name": "stdout",
          "text": [
            "<class 'pandas.core.frame.DataFrame'>\n",
            "RangeIndex: 10999 entries, 0 to 10998\n",
            "Data columns (total 12 columns):\n",
            " #   Column               Non-Null Count  Dtype \n",
            "---  ------               --------------  ----- \n",
            " 0   id                   10999 non-null  int64 \n",
            " 1   warehouse_block      10999 non-null  object\n",
            " 2   mode_of_shipment     10999 non-null  object\n",
            " 3   customer_care_calls  10999 non-null  int64 \n",
            " 4   customer_rating      10999 non-null  int64 \n",
            " 5   cost_of_the_product  10999 non-null  int64 \n",
            " 6   prior_purchases      10999 non-null  int64 \n",
            " 7   product_importance   10999 non-null  object\n",
            " 8   gender               10999 non-null  object\n",
            " 9   discount_offered     10999 non-null  int64 \n",
            " 10  weight_in_gms        10999 non-null  int64 \n",
            " 11  is_late              10999 non-null  int64 \n",
            "dtypes: int64(8), object(4)\n",
            "memory usage: 1.0+ MB\n"
          ]
        }
      ],
      "source": [
        "df.info()"
      ],
      "id": "b098a85a"
    },
    {
      "cell_type": "markdown",
      "metadata": {
        "id": "6b6bd9c2"
      },
      "source": [
        "**Based on the information above :**\n",
        "1. Dataframe has 10999 rows and 12 columns.\n",
        "2. No missing values are found.\n",
        "3. There are only 2 data types, integer and object.\n",
        "4. Classification target `is_late` and others we call features."
      ],
      "id": "6b6bd9c2"
    },
    {
      "cell_type": "markdown",
      "metadata": {
        "id": "462e270a"
      },
      "source": [
        "### Separate numeric & categorical column"
      ],
      "id": "462e270a"
    },
    {
      "cell_type": "code",
      "execution_count": null,
      "metadata": {
        "id": "92f34e99"
      },
      "outputs": [],
      "source": [
        "# Categorical data\n",
        "categorical = ['warehouse_block','mode_of_shipment','product_importance', 'gender', 'is_late', 'customer_rating']\n",
        "# Numerical data\n",
        "numeric = ['customer_care_calls', 'cost_of_the_product', 'prior_purchases', 'discount_offered', 'weight_in_gms']"
      ],
      "id": "92f34e99"
    },
    {
      "cell_type": "markdown",
      "metadata": {
        "id": "5012e6a7"
      },
      "source": [
        "## Data Cleansing & Feature Engineering"
      ],
      "id": "5012e6a7"
    },
    {
      "cell_type": "markdown",
      "metadata": {
        "id": "b7fc9da8"
      },
      "source": [
        "#### Reload dataset"
      ],
      "id": "b7fc9da8"
    },
    {
      "cell_type": "code",
      "execution_count": null,
      "metadata": {
        "id": "8f675d42"
      },
      "outputs": [],
      "source": [
        "df_dt = df.copy()"
      ],
      "id": "8f675d42"
    },
    {
      "cell_type": "markdown",
      "metadata": {
        "id": "fe7c5132"
      },
      "source": [
        "#### Identify missing values"
      ],
      "id": "fe7c5132"
    },
    {
      "cell_type": "code",
      "execution_count": null,
      "metadata": {
        "colab": {
          "base_uri": "https://localhost:8080/"
        },
        "id": "a9768309",
        "outputId": "ff4b5b6c-77de-4e91-a4ff-55ab96db30f8"
      },
      "outputs": [
        {
          "output_type": "execute_result",
          "data": {
            "text/plain": [
              "False"
            ]
          },
          "metadata": {},
          "execution_count": 10
        }
      ],
      "source": [
        "df_dt.isna().values.any() # Missing value detection"
      ],
      "id": "a9768309"
    },
    {
      "cell_type": "code",
      "execution_count": null,
      "metadata": {
        "colab": {
          "base_uri": "https://localhost:8080/"
        },
        "id": "8025f25e",
        "outputId": "feda6bf8-f5f3-4565-abcb-8f4519cbd574"
      },
      "outputs": [
        {
          "output_type": "execute_result",
          "data": {
            "text/plain": [
              "id                     0\n",
              "warehouse_block        0\n",
              "mode_of_shipment       0\n",
              "customer_care_calls    0\n",
              "customer_rating        0\n",
              "cost_of_the_product    0\n",
              "prior_purchases        0\n",
              "product_importance     0\n",
              "gender                 0\n",
              "discount_offered       0\n",
              "weight_in_gms          0\n",
              "is_late                0\n",
              "dtype: int64"
            ]
          },
          "metadata": {},
          "execution_count": 11
        }
      ],
      "source": [
        "df_dt.isna().sum()  # Calculate missing values"
      ],
      "id": "8025f25e"
    },
    {
      "cell_type": "markdown",
      "metadata": {
        "id": "d65213f4"
      },
      "source": [
        "Just for making sure that no missing values are found."
      ],
      "id": "d65213f4"
    },
    {
      "cell_type": "markdown",
      "metadata": {
        "id": "d664673f"
      },
      "source": [
        "#### Identify duplicated values"
      ],
      "id": "d664673f"
    },
    {
      "cell_type": "code",
      "execution_count": null,
      "metadata": {
        "colab": {
          "base_uri": "https://localhost:8080/",
          "height": 113
        },
        "id": "9888ea57",
        "outputId": "e31b2f20-f530-46bb-ec24-6a87a640ee54"
      },
      "outputs": [
        {
          "output_type": "execute_result",
          "data": {
            "text/plain": [
              "Empty DataFrame\n",
              "Columns: [id, warehouse_block, mode_of_shipment, customer_care_calls, customer_rating, cost_of_the_product, prior_purchases, product_importance, gender, discount_offered, weight_in_gms, is_late]\n",
              "Index: []"
            ],
            "text/html": [
              "\n",
              "  <div id=\"df-32b87b93-eeeb-4f5c-b780-7455cbe21798\">\n",
              "    <div class=\"colab-df-container\">\n",
              "      <div>\n",
              "<style scoped>\n",
              "    .dataframe tbody tr th:only-of-type {\n",
              "        vertical-align: middle;\n",
              "    }\n",
              "\n",
              "    .dataframe tbody tr th {\n",
              "        vertical-align: top;\n",
              "    }\n",
              "\n",
              "    .dataframe thead th {\n",
              "        text-align: right;\n",
              "    }\n",
              "</style>\n",
              "<table border=\"1\" class=\"dataframe\">\n",
              "  <thead>\n",
              "    <tr style=\"text-align: right;\">\n",
              "      <th></th>\n",
              "      <th>id</th>\n",
              "      <th>warehouse_block</th>\n",
              "      <th>mode_of_shipment</th>\n",
              "      <th>customer_care_calls</th>\n",
              "      <th>customer_rating</th>\n",
              "      <th>cost_of_the_product</th>\n",
              "      <th>prior_purchases</th>\n",
              "      <th>product_importance</th>\n",
              "      <th>gender</th>\n",
              "      <th>discount_offered</th>\n",
              "      <th>weight_in_gms</th>\n",
              "      <th>is_late</th>\n",
              "    </tr>\n",
              "  </thead>\n",
              "  <tbody>\n",
              "  </tbody>\n",
              "</table>\n",
              "</div>\n",
              "      <button class=\"colab-df-convert\" onclick=\"convertToInteractive('df-32b87b93-eeeb-4f5c-b780-7455cbe21798')\"\n",
              "              title=\"Convert this dataframe to an interactive table.\"\n",
              "              style=\"display:none;\">\n",
              "        \n",
              "  <svg xmlns=\"http://www.w3.org/2000/svg\" height=\"24px\"viewBox=\"0 0 24 24\"\n",
              "       width=\"24px\">\n",
              "    <path d=\"M0 0h24v24H0V0z\" fill=\"none\"/>\n",
              "    <path d=\"M18.56 5.44l.94 2.06.94-2.06 2.06-.94-2.06-.94-.94-2.06-.94 2.06-2.06.94zm-11 1L8.5 8.5l.94-2.06 2.06-.94-2.06-.94L8.5 2.5l-.94 2.06-2.06.94zm10 10l.94 2.06.94-2.06 2.06-.94-2.06-.94-.94-2.06-.94 2.06-2.06.94z\"/><path d=\"M17.41 7.96l-1.37-1.37c-.4-.4-.92-.59-1.43-.59-.52 0-1.04.2-1.43.59L10.3 9.45l-7.72 7.72c-.78.78-.78 2.05 0 2.83L4 21.41c.39.39.9.59 1.41.59.51 0 1.02-.2 1.41-.59l7.78-7.78 2.81-2.81c.8-.78.8-2.07 0-2.86zM5.41 20L4 18.59l7.72-7.72 1.47 1.35L5.41 20z\"/>\n",
              "  </svg>\n",
              "      </button>\n",
              "      \n",
              "  <style>\n",
              "    .colab-df-container {\n",
              "      display:flex;\n",
              "      flex-wrap:wrap;\n",
              "      gap: 12px;\n",
              "    }\n",
              "\n",
              "    .colab-df-convert {\n",
              "      background-color: #E8F0FE;\n",
              "      border: none;\n",
              "      border-radius: 50%;\n",
              "      cursor: pointer;\n",
              "      display: none;\n",
              "      fill: #1967D2;\n",
              "      height: 32px;\n",
              "      padding: 0 0 0 0;\n",
              "      width: 32px;\n",
              "    }\n",
              "\n",
              "    .colab-df-convert:hover {\n",
              "      background-color: #E2EBFA;\n",
              "      box-shadow: 0px 1px 2px rgba(60, 64, 67, 0.3), 0px 1px 3px 1px rgba(60, 64, 67, 0.15);\n",
              "      fill: #174EA6;\n",
              "    }\n",
              "\n",
              "    [theme=dark] .colab-df-convert {\n",
              "      background-color: #3B4455;\n",
              "      fill: #D2E3FC;\n",
              "    }\n",
              "\n",
              "    [theme=dark] .colab-df-convert:hover {\n",
              "      background-color: #434B5C;\n",
              "      box-shadow: 0px 1px 3px 1px rgba(0, 0, 0, 0.15);\n",
              "      filter: drop-shadow(0px 1px 2px rgba(0, 0, 0, 0.3));\n",
              "      fill: #FFFFFF;\n",
              "    }\n",
              "  </style>\n",
              "\n",
              "      <script>\n",
              "        const buttonEl =\n",
              "          document.querySelector('#df-32b87b93-eeeb-4f5c-b780-7455cbe21798 button.colab-df-convert');\n",
              "        buttonEl.style.display =\n",
              "          google.colab.kernel.accessAllowed ? 'block' : 'none';\n",
              "\n",
              "        async function convertToInteractive(key) {\n",
              "          const element = document.querySelector('#df-32b87b93-eeeb-4f5c-b780-7455cbe21798');\n",
              "          const dataTable =\n",
              "            await google.colab.kernel.invokeFunction('convertToInteractive',\n",
              "                                                     [key], {});\n",
              "          if (!dataTable) return;\n",
              "\n",
              "          const docLinkHtml = 'Like what you see? Visit the ' +\n",
              "            '<a target=\"_blank\" href=https://colab.research.google.com/notebooks/data_table.ipynb>data table notebook</a>'\n",
              "            + ' to learn more about interactive tables.';\n",
              "          element.innerHTML = '';\n",
              "          dataTable['output_type'] = 'display_data';\n",
              "          await google.colab.output.renderOutput(dataTable, element);\n",
              "          const docLink = document.createElement('div');\n",
              "          docLink.innerHTML = docLinkHtml;\n",
              "          element.appendChild(docLink);\n",
              "        }\n",
              "      </script>\n",
              "    </div>\n",
              "  </div>\n",
              "  "
            ]
          },
          "metadata": {},
          "execution_count": 12
        }
      ],
      "source": [
        "# Select all duplicate rows based on all columns\n",
        "df_dt[df_dt.duplicated(keep=False)] "
      ],
      "id": "9888ea57"
    },
    {
      "cell_type": "code",
      "execution_count": null,
      "metadata": {
        "colab": {
          "base_uri": "https://localhost:8080/",
          "height": 113
        },
        "id": "940ee413",
        "outputId": "a7a920f9-de98-44b6-d74a-91878a2fcfc4"
      },
      "outputs": [
        {
          "output_type": "execute_result",
          "data": {
            "text/plain": [
              "Empty DataFrame\n",
              "Columns: [id, warehouse_block, mode_of_shipment, customer_care_calls, customer_rating, cost_of_the_product, prior_purchases, product_importance, gender, discount_offered, weight_in_gms, is_late]\n",
              "Index: []"
            ],
            "text/html": [
              "\n",
              "  <div id=\"df-5ecc9a3a-c07f-40a5-b01b-5a7b81cd0b21\">\n",
              "    <div class=\"colab-df-container\">\n",
              "      <div>\n",
              "<style scoped>\n",
              "    .dataframe tbody tr th:only-of-type {\n",
              "        vertical-align: middle;\n",
              "    }\n",
              "\n",
              "    .dataframe tbody tr th {\n",
              "        vertical-align: top;\n",
              "    }\n",
              "\n",
              "    .dataframe thead th {\n",
              "        text-align: right;\n",
              "    }\n",
              "</style>\n",
              "<table border=\"1\" class=\"dataframe\">\n",
              "  <thead>\n",
              "    <tr style=\"text-align: right;\">\n",
              "      <th></th>\n",
              "      <th>id</th>\n",
              "      <th>warehouse_block</th>\n",
              "      <th>mode_of_shipment</th>\n",
              "      <th>customer_care_calls</th>\n",
              "      <th>customer_rating</th>\n",
              "      <th>cost_of_the_product</th>\n",
              "      <th>prior_purchases</th>\n",
              "      <th>product_importance</th>\n",
              "      <th>gender</th>\n",
              "      <th>discount_offered</th>\n",
              "      <th>weight_in_gms</th>\n",
              "      <th>is_late</th>\n",
              "    </tr>\n",
              "  </thead>\n",
              "  <tbody>\n",
              "  </tbody>\n",
              "</table>\n",
              "</div>\n",
              "      <button class=\"colab-df-convert\" onclick=\"convertToInteractive('df-5ecc9a3a-c07f-40a5-b01b-5a7b81cd0b21')\"\n",
              "              title=\"Convert this dataframe to an interactive table.\"\n",
              "              style=\"display:none;\">\n",
              "        \n",
              "  <svg xmlns=\"http://www.w3.org/2000/svg\" height=\"24px\"viewBox=\"0 0 24 24\"\n",
              "       width=\"24px\">\n",
              "    <path d=\"M0 0h24v24H0V0z\" fill=\"none\"/>\n",
              "    <path d=\"M18.56 5.44l.94 2.06.94-2.06 2.06-.94-2.06-.94-.94-2.06-.94 2.06-2.06.94zm-11 1L8.5 8.5l.94-2.06 2.06-.94-2.06-.94L8.5 2.5l-.94 2.06-2.06.94zm10 10l.94 2.06.94-2.06 2.06-.94-2.06-.94-.94-2.06-.94 2.06-2.06.94z\"/><path d=\"M17.41 7.96l-1.37-1.37c-.4-.4-.92-.59-1.43-.59-.52 0-1.04.2-1.43.59L10.3 9.45l-7.72 7.72c-.78.78-.78 2.05 0 2.83L4 21.41c.39.39.9.59 1.41.59.51 0 1.02-.2 1.41-.59l7.78-7.78 2.81-2.81c.8-.78.8-2.07 0-2.86zM5.41 20L4 18.59l7.72-7.72 1.47 1.35L5.41 20z\"/>\n",
              "  </svg>\n",
              "      </button>\n",
              "      \n",
              "  <style>\n",
              "    .colab-df-container {\n",
              "      display:flex;\n",
              "      flex-wrap:wrap;\n",
              "      gap: 12px;\n",
              "    }\n",
              "\n",
              "    .colab-df-convert {\n",
              "      background-color: #E8F0FE;\n",
              "      border: none;\n",
              "      border-radius: 50%;\n",
              "      cursor: pointer;\n",
              "      display: none;\n",
              "      fill: #1967D2;\n",
              "      height: 32px;\n",
              "      padding: 0 0 0 0;\n",
              "      width: 32px;\n",
              "    }\n",
              "\n",
              "    .colab-df-convert:hover {\n",
              "      background-color: #E2EBFA;\n",
              "      box-shadow: 0px 1px 2px rgba(60, 64, 67, 0.3), 0px 1px 3px 1px rgba(60, 64, 67, 0.15);\n",
              "      fill: #174EA6;\n",
              "    }\n",
              "\n",
              "    [theme=dark] .colab-df-convert {\n",
              "      background-color: #3B4455;\n",
              "      fill: #D2E3FC;\n",
              "    }\n",
              "\n",
              "    [theme=dark] .colab-df-convert:hover {\n",
              "      background-color: #434B5C;\n",
              "      box-shadow: 0px 1px 3px 1px rgba(0, 0, 0, 0.15);\n",
              "      filter: drop-shadow(0px 1px 2px rgba(0, 0, 0, 0.3));\n",
              "      fill: #FFFFFF;\n",
              "    }\n",
              "  </style>\n",
              "\n",
              "      <script>\n",
              "        const buttonEl =\n",
              "          document.querySelector('#df-5ecc9a3a-c07f-40a5-b01b-5a7b81cd0b21 button.colab-df-convert');\n",
              "        buttonEl.style.display =\n",
              "          google.colab.kernel.accessAllowed ? 'block' : 'none';\n",
              "\n",
              "        async function convertToInteractive(key) {\n",
              "          const element = document.querySelector('#df-5ecc9a3a-c07f-40a5-b01b-5a7b81cd0b21');\n",
              "          const dataTable =\n",
              "            await google.colab.kernel.invokeFunction('convertToInteractive',\n",
              "                                                     [key], {});\n",
              "          if (!dataTable) return;\n",
              "\n",
              "          const docLinkHtml = 'Like what you see? Visit the ' +\n",
              "            '<a target=\"_blank\" href=https://colab.research.google.com/notebooks/data_table.ipynb>data table notebook</a>'\n",
              "            + ' to learn more about interactive tables.';\n",
              "          element.innerHTML = '';\n",
              "          dataTable['output_type'] = 'display_data';\n",
              "          await google.colab.output.renderOutput(dataTable, element);\n",
              "          const docLink = document.createElement('div');\n",
              "          docLink.innerHTML = docLinkHtml;\n",
              "          element.appendChild(docLink);\n",
              "        }\n",
              "      </script>\n",
              "    </div>\n",
              "  </div>\n",
              "  "
            ]
          },
          "metadata": {},
          "execution_count": 13
        }
      ],
      "source": [
        "# Select all duplicate rows based on selected column\n",
        "df_dt[df_dt.duplicated(subset=['id'],keep=False)] # Display all duplicated rows based on column 'id'"
      ],
      "id": "940ee413"
    },
    {
      "cell_type": "markdown",
      "metadata": {
        "id": "aee0ad76"
      },
      "source": [
        "Luckily, there is no duplicated value in the dataframe."
      ],
      "id": "aee0ad76"
    },
    {
      "cell_type": "markdown",
      "metadata": {
        "id": "f4159779"
      },
      "source": [
        "#### Identify outliers"
      ],
      "id": "f4159779"
    },
    {
      "cell_type": "code",
      "execution_count": null,
      "metadata": {
        "colab": {
          "base_uri": "https://localhost:8080/",
          "height": 388
        },
        "id": "e23b59c3",
        "outputId": "565e9bf7-e73f-4b93-84b9-b84d44797305"
      },
      "outputs": [
        {
          "output_type": "display_data",
          "data": {
            "text/plain": [
              "<Figure size 1440x576 with 5 Axes>"
            ],
            "image/png": "[encoded data removed]"
          },
          "metadata": {}
        }
      ],
      "source": [
        "# Identify using boxplot\n",
        "plt.figure(figsize=(20,8))\n",
        "for i in range(0,len(numeric)):\n",
        "    plt.subplot(1, len(numeric), i+1)\n",
        "    sns.boxplot(y=df_dt[numeric[i]], color='orange')\n",
        "    plt.tight_layout()"
      ],
      "id": "e23b59c3"
    },
    {
      "cell_type": "code",
      "execution_count": null,
      "metadata": {
        "colab": {
          "base_uri": "https://localhost:8080/"
        },
        "id": "c3fe3b7f",
        "outputId": "a3ef6027-f234-4f94-8102-2b1d61a21607"
      },
      "outputs": [
        {
          "output_type": "stream",
          "name": "stdout",
          "text": [
            "Outlier is not found in column customer_care_calls \n",
            "\n",
            "Outlier is not found in column cost_of_the_product \n",
            "\n",
            "High outlier is found in column prior_purchases > 5.5 \n",
            "\n",
            "Total of High Outlier in column prior_purchases : 1003 \n",
            "\n",
            "High outlier is found in column discount_offered > 19.0 \n",
            "\n",
            "Total of High Outlier in column discount_offered : 2209 \n",
            "\n",
            "Outlier is not found in column weight_in_gms \n",
            "\n"
          ]
        }
      ],
      "source": [
        "# Identify outlier using IQR\n",
        "for col in numeric:\n",
        "    \n",
        "    # Menghitung nilai IQR\n",
        "    Q1 = df_dt[col].quantile(0.25)\n",
        "    Q3 = df_dt[col].quantile(0.75)\n",
        "    IQR = Q3 - Q1\n",
        "    \n",
        "    # Define value \n",
        "    nilai_min = df_dt[col].min()\n",
        "    nilai_max = df_dt[col].max()\n",
        "    lower_lim = Q1 - (1.5*IQR)\n",
        "    upper_lim = Q3 + (1.5*IQR)\n",
        "    \n",
        "    # Identify low outlier\n",
        "\n",
        "    if (nilai_min < lower_lim):\n",
        "        print('Low outlier is found in column',col,'<', lower_lim,'\\n')\n",
        "        #display total low outlier \n",
        "        print('Total of Low Outlier in column',col, ':', len(list(df_dt[df_dt[col] < lower_lim].index)),'\\n')\n",
        "    elif (nilai_max > upper_lim):\n",
        "        print('High outlier is found in column',col,'>', upper_lim,'\\n')\n",
        "        #display total high outlier \n",
        "        print('Total of High Outlier in column',col, ':', len(list(df_dt[df_dt[col] > upper_lim].index)),'\\n')\n",
        "        \n",
        "    else:\n",
        "        print('Outlier is not found in column',col,'\\n')\n",
        "        "
      ],
      "id": "c3fe3b7f"
    },
    {
      "cell_type": "markdown",
      "metadata": {
        "id": "258caa8f"
      },
      "source": [
        "We found outliers in `discount_offered` & `prior_purchases` with almost 30% of data."
      ],
      "id": "258caa8f"
    },
    {
      "cell_type": "code",
      "execution_count": null,
      "metadata": {
        "id": "04246f88"
      },
      "outputs": [],
      "source": [
        "# We handle outlier with replace the value with upper_bound or lower_bound \n",
        "for col in ['prior_purchases', 'discount_offered']:\n",
        "    # Initiate Q1\n",
        "    Q1 = df_dt[col].quantile(0.25)\n",
        "    # Initiate Q3\n",
        "    Q3 = df_dt[col].quantile(0.75)\n",
        "    # Initiate IQR\n",
        "    IQR = Q3 - Q1\n",
        "    # Initiate lower_bound & upper_bound \n",
        "    lower_bound = Q1 - (IQR * 1.5)\n",
        "    upper_bound = Q3 + (IQR * 1.5)\n",
        "\n",
        "    # Filtering outlier & replace with upper_bound or lower_bound \n",
        "    df_dt[col] = np.where(df_dt[col] >= upper_bound,\n",
        "                         upper_bound, df_dt[col])\n",
        "    df_dt[col] = np.where(df_dt[col] <= lower_bound,\n",
        "                         lower_bound, df_dt[col])"
      ],
      "id": "04246f88"
    },
    {
      "cell_type": "code",
      "execution_count": null,
      "metadata": {
        "colab": {
          "base_uri": "https://localhost:8080/",
          "height": 388
        },
        "id": "V7XzQgofSBNh",
        "outputId": "63d8d9c4-86bc-459c-f9ec-841f1a1032c9"
      },
      "outputs": [
        {
          "output_type": "display_data",
          "data": {
            "text/plain": [
              "<Figure size 1440x576 with 5 Axes>"
            ],
            "image/png": "[encoded data removed]"
          },
          "metadata": {}
        }
      ],
      "source": [
        "# Identify using boxplot\n",
        "plt.figure(figsize=(20,8))\n",
        "for i in range(0,len(numeric)):\n",
        "    plt.subplot(1, len(numeric), i+1)\n",
        "    sns.boxplot(y=df_dt[numeric[i]], color='orange')\n",
        "    plt.tight_layout()"
      ],
      "id": "V7XzQgofSBNh"
    },
    {
      "cell_type": "code",
      "execution_count": null,
      "metadata": {
        "colab": {
          "base_uri": "https://localhost:8080/",
          "height": 264
        },
        "id": "bnqZ5BElTBdm",
        "outputId": "17b89c1b-6777-4412-a8d6-0a0ac2811a3c"
      },
      "outputs": [
        {
          "output_type": "display_data",
          "data": {
            "text/plain": [
              "<Figure size 432x288 with 1 Axes>"
            ],
            "image/png": "[encoded data removed]"
          },
          "metadata": {}
        }
      ],
      "source": [
        "sns.boxplot(y= df_dt['prior_purchases'], color = 'orange', orient = 'h');\n"
      ],
      "id": "bnqZ5BElTBdm"
    },
    {
      "cell_type": "code",
      "execution_count": null,
      "metadata": {
        "colab": {
          "base_uri": "https://localhost:8080/",
          "height": 264
        },
        "id": "1PYQ0HfMToaL",
        "outputId": "7075338e-b8e6-4fff-f1e5-87c5a07e0ec7"
      },
      "outputs": [
        {
          "output_type": "display_data",
          "data": {
            "text/plain": [
              "<Figure size 432x288 with 1 Axes>"
            ],
            "image/png": "[encoded data removed]"
          },
          "metadata": {}
        }
      ],
      "source": [
        "sns.boxplot(y= df_dt['discount_offered'], color = 'orange', orient = 'h');"
      ],
      "id": "1PYQ0HfMToaL"
    },
    {
      "cell_type": "markdown",
      "metadata": {
        "id": "839649a1"
      },
      "source": [
        "We didn't remove the outliers, but replacing with upper bound and lower bound. And we can see in the visualization above, there is no outliers detected."
      ],
      "id": "839649a1"
    },
    {
      "cell_type": "markdown",
      "metadata": {
        "id": "04316b7d"
      },
      "source": [
        "#### Feature Transformation : Log transform"
      ],
      "id": "04316b7d"
    },
    {
      "cell_type": "code",
      "execution_count": null,
      "metadata": {
        "colab": {
          "base_uri": "https://localhost:8080/",
          "height": 245
        },
        "id": "0ee415bc",
        "outputId": "b86b1967-5642-4203-e4d2-d5baed1811eb"
      },
      "outputs": [
        {
          "output_type": "display_data",
          "data": {
            "text/plain": [
              "<Figure size 1440x360 with 5 Axes>"
            ],
            "image/png": "[encoded data removed]"
          },
          "metadata": {}
        }
      ],
      "source": [
        "# Check data distribution\n",
        "plt.figure(figsize=(20,5))\n",
        "for i in range(0,len(numeric)):\n",
        "    plt.subplot(1, len(numeric), i+1)\n",
        "    sns.distplot(df_dt[numeric[i]], color='orange')\n",
        "    plt.tight_layout()"
      ],
      "id": "0ee415bc"
    },
    {
      "cell_type": "code",
      "execution_count": null,
      "metadata": {
        "id": "0ecc9ca4"
      },
      "outputs": [],
      "source": [
        "# Apply log transformation\n",
        "for col in numeric:\n",
        "    df_dt[col] = (df_dt[col]+1).apply(np.log)"
      ],
      "id": "0ecc9ca4"
    },
    {
      "cell_type": "code",
      "execution_count": null,
      "metadata": {
        "colab": {
          "base_uri": "https://localhost:8080/",
          "height": 245
        },
        "id": "0dbd8901",
        "outputId": "75bc4e7b-60c7-4273-9249-554897fce2ca"
      },
      "outputs": [
        {
          "output_type": "display_data",
          "data": {
            "text/plain": [
              "<Figure size 1440x360 with 5 Axes>"
            ],
            "image/png": "[encoded data removed]"
          },
          "metadata": {}
        }
      ],
      "source": [
        "# Visualize after log transformation\n",
        "plt.figure(figsize=(20,5))\n",
        "for i in range(0,len(numeric)):\n",
        "    plt.subplot(1, len(numeric), i+1)\n",
        "    sns.distplot(df_dt[numeric[i]], color='orange')\n",
        "    plt.tight_layout()"
      ],
      "id": "0dbd8901"
    },
    {
      "cell_type": "markdown",
      "metadata": {
        "id": "2ec5658c"
      },
      "source": [
        "#### Feature Scaling : Standardization"
      ],
      "id": "2ec5658c"
    },
    {
      "cell_type": "code",
      "execution_count": null,
      "metadata": {
        "id": "d50a1151"
      },
      "outputs": [],
      "source": [
        "# Apply standardization\n",
        "for col in numeric:\n",
        "    df_dt[col]= StandardScaler().fit_transform(df_dt[col].values.reshape(len(df_dt), 1))"
      ],
      "id": "d50a1151"
    },
    {
      "cell_type": "code",
      "execution_count": null,
      "metadata": {
        "colab": {
          "base_uri": "https://localhost:8080/",
          "height": 364
        },
        "id": "6522ae2a",
        "outputId": "8957bb17-842d-48ed-bab9-fe2bd7e3520d"
      },
      "outputs": [
        {
          "output_type": "execute_result",
          "data": {
            "text/plain": [
              "                id  customer_care_calls  customer_rating  cost_of_the_product  \\\n",
              "count  10999.00000         1.099900e+04     10999.000000         1.099900e+04   \n",
              "mean    5500.00000         1.550416e-16         2.990545        -5.100869e-15   \n",
              "std     3175.28214         1.000045e+00         1.413603         1.000045e+00   \n",
              "min        1.00000        -2.177630e+00         1.000000        -3.086779e+00   \n",
              "25%     2750.50000        -9.146463e-01         2.000000        -7.773403e-01   \n",
              "50%     5500.00000         6.500001e-02         3.000000         1.892606e-01   \n",
              "75%     8249.50000         8.654293e-01         4.000000         8.428454e-01   \n",
              "max    10999.00000         2.128413e+00         5.000000         1.708704e+00   \n",
              "\n",
              "       prior_purchases  discount_offered  weight_in_gms       is_late  \n",
              "count     1.099900e+04      10999.000000   1.099900e+04  10999.000000  \n",
              "mean     -1.447055e-16          0.000000   5.788220e-16      0.596691  \n",
              "std       1.000045e+00          1.000045   1.000045e+00      0.490584  \n",
              "min      -1.387728e+00         -1.947658  -2.073431e+00      0.000000  \n",
              "25%      -2.636003e-01         -0.623429  -9.814039e-01      0.000000  \n",
              "50%      -2.636003e-01          0.055824   4.788573e-01      1.000000  \n",
              "75%       6.083412e-01          0.516055   8.317281e-01      1.000000  \n",
              "max       1.633539e+00          1.380053   1.622939e+00      1.000000  "
            ],
            "text/html": [
              "\n",
              "  <div id=\"df-8cfc7a07-5a23-4581-8e84-f3d6f29db466\">\n",
              "    <div class=\"colab-df-container\">\n",
              "      <div>\n",
              "<style scoped>\n",
              "    .dataframe tbody tr th:only-of-type {\n",
              "        vertical-align: middle;\n",
              "    }\n",
              "\n",
              "    .dataframe tbody tr th {\n",
              "        vertical-align: top;\n",
              "    }\n",
              "\n",
              "    .dataframe thead th {\n",
              "        text-align: right;\n",
              "    }\n",
              "</style>\n",
              "<table border=\"1\" class=\"dataframe\">\n",
              "  <thead>\n",
              "    <tr style=\"text-align: right;\">\n",
              "      <th></th>\n",
              "      <th>id</th>\n",
              "      <th>customer_care_calls</th>\n",
              "      <th>customer_rating</th>\n",
              "      <th>cost_of_the_product</th>\n",
              "      <th>prior_purchases</th>\n",
              "      <th>discount_offered</th>\n",
              "      <th>weight_in_gms</th>\n",
              "      <th>is_late</th>\n",
              "    </tr>\n",
              "  </thead>\n",
              "  <tbody>\n",
              "    <tr>\n",
              "      <th>count</th>\n",
              "      <td>10999.00000</td>\n",
              "      <td>1.099900e+04</td>\n",
              "      <td>10999.000000</td>\n",
              "      <td>1.099900e+04</td>\n",
              "      <td>1.099900e+04</td>\n",
              "      <td>10999.000000</td>\n",
              "      <td>1.099900e+04</td>\n",
              "      <td>10999.000000</td>\n",
              "    </tr>\n",
              "    <tr>\n",
              "      <th>mean</th>\n",
              "      <td>5500.00000</td>\n",
              "      <td>1.550416e-16</td>\n",
              "      <td>2.990545</td>\n",
              "      <td>-5.100869e-15</td>\n",
              "      <td>-1.447055e-16</td>\n",
              "      <td>0.000000</td>\n",
              "      <td>5.788220e-16</td>\n",
              "      <td>0.596691</td>\n",
              "    </tr>\n",
              "    <tr>\n",
              "      <th>std</th>\n",
              "      <td>3175.28214</td>\n",
              "      <td>1.000045e+00</td>\n",
              "      <td>1.413603</td>\n",
              "      <td>1.000045e+00</td>\n",
              "      <td>1.000045e+00</td>\n",
              "      <td>1.000045</td>\n",
              "      <td>1.000045e+00</td>\n",
              "      <td>0.490584</td>\n",
              "    </tr>\n",
              "    <tr>\n",
              "      <th>min</th>\n",
              "      <td>1.00000</td>\n",
              "      <td>-2.177630e+00</td>\n",
              "      <td>1.000000</td>\n",
              "      <td>-3.086779e+00</td>\n",
              "      <td>-1.387728e+00</td>\n",
              "      <td>-1.947658</td>\n",
              "      <td>-2.073431e+00</td>\n",
              "      <td>0.000000</td>\n",
              "    </tr>\n",
              "    <tr>\n",
              "      <th>25%</th>\n",
              "      <td>2750.50000</td>\n",
              "      <td>-9.146463e-01</td>\n",
              "      <td>2.000000</td>\n",
              "      <td>-7.773403e-01</td>\n",
              "      <td>-2.636003e-01</td>\n",
              "      <td>-0.623429</td>\n",
              "      <td>-9.814039e-01</td>\n",
              "      <td>0.000000</td>\n",
              "    </tr>\n",
              "    <tr>\n",
              "      <th>50%</th>\n",
              "      <td>5500.00000</td>\n",
              "      <td>6.500001e-02</td>\n",
              "      <td>3.000000</td>\n",
              "      <td>1.892606e-01</td>\n",
              "      <td>-2.636003e-01</td>\n",
              "      <td>0.055824</td>\n",
              "      <td>4.788573e-01</td>\n",
              "      <td>1.000000</td>\n",
              "    </tr>\n",
              "    <tr>\n",
              "      <th>75%</th>\n",
              "      <td>8249.50000</td>\n",
              "      <td>8.654293e-01</td>\n",
              "      <td>4.000000</td>\n",
              "      <td>8.428454e-01</td>\n",
              "      <td>6.083412e-01</td>\n",
              "      <td>0.516055</td>\n",
              "      <td>8.317281e-01</td>\n",
              "      <td>1.000000</td>\n",
              "    </tr>\n",
              "    <tr>\n",
              "      <th>max</th>\n",
              "      <td>10999.00000</td>\n",
              "      <td>2.128413e+00</td>\n",
              "      <td>5.000000</td>\n",
              "      <td>1.708704e+00</td>\n",
              "      <td>1.633539e+00</td>\n",
              "      <td>1.380053</td>\n",
              "      <td>1.622939e+00</td>\n",
              "      <td>1.000000</td>\n",
              "    </tr>\n",
              "  </tbody>\n",
              "</table>\n",
              "</div>\n",
              "      <button class=\"colab-df-convert\" onclick=\"convertToInteractive('df-8cfc7a07-5a23-4581-8e84-f3d6f29db466')\"\n",
              "              title=\"Convert this dataframe to an interactive table.\"\n",
              "              style=\"display:none;\">\n",
              "        \n",
              "  <svg xmlns=\"http://www.w3.org/2000/svg\" height=\"24px\"viewBox=\"0 0 24 24\"\n",
              "       width=\"24px\">\n",
              "    <path d=\"M0 0h24v24H0V0z\" fill=\"none\"/>\n",
              "    <path d=\"M18.56 5.44l.94 2.06.94-2.06 2.06-.94-2.06-.94-.94-2.06-.94 2.06-2.06.94zm-11 1L8.5 8.5l.94-2.06 2.06-.94-2.06-.94L8.5 2.5l-.94 2.06-2.06.94zm10 10l.94 2.06.94-2.06 2.06-.94-2.06-.94-.94-2.06-.94 2.06-2.06.94z\"/><path d=\"M17.41 7.96l-1.37-1.37c-.4-.4-.92-.59-1.43-.59-.52 0-1.04.2-1.43.59L10.3 9.45l-7.72 7.72c-.78.78-.78 2.05 0 2.83L4 21.41c.39.39.9.59 1.41.59.51 0 1.02-.2 1.41-.59l7.78-7.78 2.81-2.81c.8-.78.8-2.07 0-2.86zM5.41 20L4 18.59l7.72-7.72 1.47 1.35L5.41 20z\"/>\n",
              "  </svg>\n",
              "      </button>\n",
              "      \n",
              "  <style>\n",
              "    .colab-df-container {\n",
              "      display:flex;\n",
              "      flex-wrap:wrap;\n",
              "      gap: 12px;\n",
              "    }\n",
              "\n",
              "    .colab-df-convert {\n",
              "      background-color: #E8F0FE;\n",
              "      border: none;\n",
              "      border-radius: 50%;\n",
              "      cursor: pointer;\n",
              "      display: none;\n",
              "      fill: #1967D2;\n",
              "      height: 32px;\n",
              "      padding: 0 0 0 0;\n",
              "      width: 32px;\n",
              "    }\n",
              "\n",
              "    .colab-df-convert:hover {\n",
              "      background-color: #E2EBFA;\n",
              "      box-shadow: 0px 1px 2px rgba(60, 64, 67, 0.3), 0px 1px 3px 1px rgba(60, 64, 67, 0.15);\n",
              "      fill: #174EA6;\n",
              "    }\n",
              "\n",
              "    [theme=dark] .colab-df-convert {\n",
              "      background-color: #3B4455;\n",
              "      fill: #D2E3FC;\n",
              "    }\n",
              "\n",
              "    [theme=dark] .colab-df-convert:hover {\n",
              "      background-color: #434B5C;\n",
              "      box-shadow: 0px 1px 3px 1px rgba(0, 0, 0, 0.15);\n",
              "      filter: drop-shadow(0px 1px 2px rgba(0, 0, 0, 0.3));\n",
              "      fill: #FFFFFF;\n",
              "    }\n",
              "  </style>\n",
              "\n",
              "      <script>\n",
              "        const buttonEl =\n",
              "          document.querySelector('#df-8cfc7a07-5a23-4581-8e84-f3d6f29db466 button.colab-df-convert');\n",
              "        buttonEl.style.display =\n",
              "          google.colab.kernel.accessAllowed ? 'block' : 'none';\n",
              "\n",
              "        async function convertToInteractive(key) {\n",
              "          const element = document.querySelector('#df-8cfc7a07-5a23-4581-8e84-f3d6f29db466');\n",
              "          const dataTable =\n",
              "            await google.colab.kernel.invokeFunction('convertToInteractive',\n",
              "                                                     [key], {});\n",
              "          if (!dataTable) return;\n",
              "\n",
              "          const docLinkHtml = 'Like what you see? Visit the ' +\n",
              "            '<a target=\"_blank\" href=https://colab.research.google.com/notebooks/data_table.ipynb>data table notebook</a>'\n",
              "            + ' to learn more about interactive tables.';\n",
              "          element.innerHTML = '';\n",
              "          dataTable['output_type'] = 'display_data';\n",
              "          await google.colab.output.renderOutput(dataTable, element);\n",
              "          const docLink = document.createElement('div');\n",
              "          docLink.innerHTML = docLinkHtml;\n",
              "          element.appendChild(docLink);\n",
              "        }\n",
              "      </script>\n",
              "    </div>\n",
              "  </div>\n",
              "  "
            ]
          },
          "metadata": {},
          "execution_count": 24
        }
      ],
      "source": [
        "df_dt.describe()"
      ],
      "id": "6522ae2a"
    },
    {
      "cell_type": "markdown",
      "metadata": {
        "id": "d969bf7f"
      },
      "source": [
        "#### Feature Selection : Chi squared method"
      ],
      "id": "d969bf7f"
    },
    {
      "cell_type": "code",
      "execution_count": null,
      "metadata": {
        "colab": {
          "base_uri": "https://localhost:8080/",
          "height": 206
        },
        "id": "071f8c70",
        "outputId": "2a607d33-2984-4647-9011-7e6d99d7df5b"
      },
      "outputs": [
        {
          "output_type": "execute_result",
          "data": {
            "text/plain": [
              "               Column                      Hypothesis\n",
              "0     warehouse_block  Fail to Reject Null Hypothesis\n",
              "1    mode_of_shipment  Fail to Reject Null Hypothesis\n",
              "2  product_importance          Reject Null Hypothesis\n",
              "3              gender  Fail to Reject Null Hypothesis\n",
              "4     customer_rating  Fail to Reject Null Hypothesis"
            ],
            "text/html": [
              "\n",
              "  <div id=\"df-c3453b3e-fc21-42df-99b2-dd42726f8f63\">\n",
              "    <div class=\"colab-df-container\">\n",
              "      <div>\n",
              "<style scoped>\n",
              "    .dataframe tbody tr th:only-of-type {\n",
              "        vertical-align: middle;\n",
              "    }\n",
              "\n",
              "    .dataframe tbody tr th {\n",
              "        vertical-align: top;\n",
              "    }\n",
              "\n",
              "    .dataframe thead th {\n",
              "        text-align: right;\n",
              "    }\n",
              "</style>\n",
              "<table border=\"1\" class=\"dataframe\">\n",
              "  <thead>\n",
              "    <tr style=\"text-align: right;\">\n",
              "      <th></th>\n",
              "      <th>Column</th>\n",
              "      <th>Hypothesis</th>\n",
              "    </tr>\n",
              "  </thead>\n",
              "  <tbody>\n",
              "    <tr>\n",
              "      <th>0</th>\n",
              "      <td>warehouse_block</td>\n",
              "      <td>Fail to Reject Null Hypothesis</td>\n",
              "    </tr>\n",
              "    <tr>\n",
              "      <th>1</th>\n",
              "      <td>mode_of_shipment</td>\n",
              "      <td>Fail to Reject Null Hypothesis</td>\n",
              "    </tr>\n",
              "    <tr>\n",
              "      <th>2</th>\n",
              "      <td>product_importance</td>\n",
              "      <td>Reject Null Hypothesis</td>\n",
              "    </tr>\n",
              "    <tr>\n",
              "      <th>3</th>\n",
              "      <td>gender</td>\n",
              "      <td>Fail to Reject Null Hypothesis</td>\n",
              "    </tr>\n",
              "    <tr>\n",
              "      <th>4</th>\n",
              "      <td>customer_rating</td>\n",
              "      <td>Fail to Reject Null Hypothesis</td>\n",
              "    </tr>\n",
              "  </tbody>\n",
              "</table>\n",
              "</div>\n",
              "      <button class=\"colab-df-convert\" onclick=\"convertToInteractive('df-c3453b3e-fc21-42df-99b2-dd42726f8f63')\"\n",
              "              title=\"Convert this dataframe to an interactive table.\"\n",
              "              style=\"display:none;\">\n",
              "        \n",
              "  <svg xmlns=\"http://www.w3.org/2000/svg\" height=\"24px\"viewBox=\"0 0 24 24\"\n",
              "       width=\"24px\">\n",
              "    <path d=\"M0 0h24v24H0V0z\" fill=\"none\"/>\n",
              "    <path d=\"M18.56 5.44l.94 2.06.94-2.06 2.06-.94-2.06-.94-.94-2.06-.94 2.06-2.06.94zm-11 1L8.5 8.5l.94-2.06 2.06-.94-2.06-.94L8.5 2.5l-.94 2.06-2.06.94zm10 10l.94 2.06.94-2.06 2.06-.94-2.06-.94-.94-2.06-.94 2.06-2.06.94z\"/><path d=\"M17.41 7.96l-1.37-1.37c-.4-.4-.92-.59-1.43-.59-.52 0-1.04.2-1.43.59L10.3 9.45l-7.72 7.72c-.78.78-.78 2.05 0 2.83L4 21.41c.39.39.9.59 1.41.59.51 0 1.02-.2 1.41-.59l7.78-7.78 2.81-2.81c.8-.78.8-2.07 0-2.86zM5.41 20L4 18.59l7.72-7.72 1.47 1.35L5.41 20z\"/>\n",
              "  </svg>\n",
              "      </button>\n",
              "      \n",
              "  <style>\n",
              "    .colab-df-container {\n",
              "      display:flex;\n",
              "      flex-wrap:wrap;\n",
              "      gap: 12px;\n",
              "    }\n",
              "\n",
              "    .colab-df-convert {\n",
              "      background-color: #E8F0FE;\n",
              "      border: none;\n",
              "      border-radius: 50%;\n",
              "      cursor: pointer;\n",
              "      display: none;\n",
              "      fill: #1967D2;\n",
              "      height: 32px;\n",
              "      padding: 0 0 0 0;\n",
              "      width: 32px;\n",
              "    }\n",
              "\n",
              "    .colab-df-convert:hover {\n",
              "      background-color: #E2EBFA;\n",
              "      box-shadow: 0px 1px 2px rgba(60, 64, 67, 0.3), 0px 1px 3px 1px rgba(60, 64, 67, 0.15);\n",
              "      fill: #174EA6;\n",
              "    }\n",
              "\n",
              "    [theme=dark] .colab-df-convert {\n",
              "      background-color: #3B4455;\n",
              "      fill: #D2E3FC;\n",
              "    }\n",
              "\n",
              "    [theme=dark] .colab-df-convert:hover {\n",
              "      background-color: #434B5C;\n",
              "      box-shadow: 0px 1px 3px 1px rgba(0, 0, 0, 0.15);\n",
              "      filter: drop-shadow(0px 1px 2px rgba(0, 0, 0, 0.3));\n",
              "      fill: #FFFFFF;\n",
              "    }\n",
              "  </style>\n",
              "\n",
              "      <script>\n",
              "        const buttonEl =\n",
              "          document.querySelector('#df-c3453b3e-fc21-42df-99b2-dd42726f8f63 button.colab-df-convert');\n",
              "        buttonEl.style.display =\n",
              "          google.colab.kernel.accessAllowed ? 'block' : 'none';\n",
              "\n",
              "        async function convertToInteractive(key) {\n",
              "          const element = document.querySelector('#df-c3453b3e-fc21-42df-99b2-dd42726f8f63');\n",
              "          const dataTable =\n",
              "            await google.colab.kernel.invokeFunction('convertToInteractive',\n",
              "                                                     [key], {});\n",
              "          if (!dataTable) return;\n",
              "\n",
              "          const docLinkHtml = 'Like what you see? Visit the ' +\n",
              "            '<a target=\"_blank\" href=https://colab.research.google.com/notebooks/data_table.ipynb>data table notebook</a>'\n",
              "            + ' to learn more about interactive tables.';\n",
              "          element.innerHTML = '';\n",
              "          dataTable['output_type'] = 'display_data';\n",
              "          await google.colab.output.renderOutput(dataTable, element);\n",
              "          const docLink = document.createElement('div');\n",
              "          docLink.innerHTML = docLinkHtml;\n",
              "          element.appendChild(docLink);\n",
              "        }\n",
              "      </script>\n",
              "    </div>\n",
              "  </div>\n",
              "  "
            ]
          },
          "metadata": {},
          "execution_count": 25
        }
      ],
      "source": [
        "\n",
        "# Selection for categorial feature\n",
        "# Import module\n",
        "from scipy.stats import chi2_contingency\n",
        "\n",
        "category = ['warehouse_block','mode_of_shipment','product_importance', \n",
        "            'gender','customer_rating']\n",
        "chi2_check = []\n",
        "# Iteration\n",
        "for col in category:\n",
        "    # If pvalue < 0.05 \n",
        "    if chi2_contingency(pd.crosstab(df_dt['is_late'], df_dt[col]))[1] < 0.05 :\n",
        "        chi2_check.append('Reject Null Hypothesis')\n",
        "    # If pvalue > 0.05\n",
        "    else :\n",
        "        chi2_check.append('Fail to Reject Null Hypothesis')\n",
        "        \n",
        "# Make the result into dataframe\n",
        "res = pd.DataFrame(data = [category, chi2_check]).T\n",
        "# Rename columns\n",
        "res.columns = ['Column', 'Hypothesis']\n",
        "res"
      ],
      "id": "071f8c70"
    },
    {
      "cell_type": "code",
      "execution_count": null,
      "metadata": {
        "colab": {
          "base_uri": "https://localhost:8080/",
          "height": 143
        },
        "id": "15233b0f",
        "outputId": "d1e41aae-926c-48c6-c5b1-74f50c9222df"
      },
      "outputs": [
        {
          "output_type": "execute_result",
          "data": {
            "text/plain": [
              "                        Pair                      Hypothesis\n",
              "0    product_importance-high          Reject Null Hypothesis\n",
              "1     product_importance-low  Fail to Reject Null Hypothesis\n",
              "2  product_importance-medium  Fail to Reject Null Hypothesis"
            ],
            "text/html": [
              "\n",
              "  <div id=\"df-351d8c26-04af-4a48-a8f1-0e79e054bfe3\">\n",
              "    <div class=\"colab-df-container\">\n",
              "      <div>\n",
              "<style scoped>\n",
              "    .dataframe tbody tr th:only-of-type {\n",
              "        vertical-align: middle;\n",
              "    }\n",
              "\n",
              "    .dataframe tbody tr th {\n",
              "        vertical-align: top;\n",
              "    }\n",
              "\n",
              "    .dataframe thead th {\n",
              "        text-align: right;\n",
              "    }\n",
              "</style>\n",
              "<table border=\"1\" class=\"dataframe\">\n",
              "  <thead>\n",
              "    <tr style=\"text-align: right;\">\n",
              "      <th></th>\n",
              "      <th>Pair</th>\n",
              "      <th>Hypothesis</th>\n",
              "    </tr>\n",
              "  </thead>\n",
              "  <tbody>\n",
              "    <tr>\n",
              "      <th>0</th>\n",
              "      <td>product_importance-high</td>\n",
              "      <td>Reject Null Hypothesis</td>\n",
              "    </tr>\n",
              "    <tr>\n",
              "      <th>1</th>\n",
              "      <td>product_importance-low</td>\n",
              "      <td>Fail to Reject Null Hypothesis</td>\n",
              "    </tr>\n",
              "    <tr>\n",
              "      <th>2</th>\n",
              "      <td>product_importance-medium</td>\n",
              "      <td>Fail to Reject Null Hypothesis</td>\n",
              "    </tr>\n",
              "  </tbody>\n",
              "</table>\n",
              "</div>\n",
              "      <button class=\"colab-df-convert\" onclick=\"convertToInteractive('df-351d8c26-04af-4a48-a8f1-0e79e054bfe3')\"\n",
              "              title=\"Convert this dataframe to an interactive table.\"\n",
              "              style=\"display:none;\">\n",
              "        \n",
              "  <svg xmlns=\"http://www.w3.org/2000/svg\" height=\"24px\"viewBox=\"0 0 24 24\"\n",
              "       width=\"24px\">\n",
              "    <path d=\"M0 0h24v24H0V0z\" fill=\"none\"/>\n",
              "    <path d=\"M18.56 5.44l.94 2.06.94-2.06 2.06-.94-2.06-.94-.94-2.06-.94 2.06-2.06.94zm-11 1L8.5 8.5l.94-2.06 2.06-.94-2.06-.94L8.5 2.5l-.94 2.06-2.06.94zm10 10l.94 2.06.94-2.06 2.06-.94-2.06-.94-.94-2.06-.94 2.06-2.06.94z\"/><path d=\"M17.41 7.96l-1.37-1.37c-.4-.4-.92-.59-1.43-.59-.52 0-1.04.2-1.43.59L10.3 9.45l-7.72 7.72c-.78.78-.78 2.05 0 2.83L4 21.41c.39.39.9.59 1.41.59.51 0 1.02-.2 1.41-.59l7.78-7.78 2.81-2.81c.8-.78.8-2.07 0-2.86zM5.41 20L4 18.59l7.72-7.72 1.47 1.35L5.41 20z\"/>\n",
              "  </svg>\n",
              "      </button>\n",
              "      \n",
              "  <style>\n",
              "    .colab-df-container {\n",
              "      display:flex;\n",
              "      flex-wrap:wrap;\n",
              "      gap: 12px;\n",
              "    }\n",
              "\n",
              "    .colab-df-convert {\n",
              "      background-color: #E8F0FE;\n",
              "      border: none;\n",
              "      border-radius: 50%;\n",
              "      cursor: pointer;\n",
              "      display: none;\n",
              "      fill: #1967D2;\n",
              "      height: 32px;\n",
              "      padding: 0 0 0 0;\n",
              "      width: 32px;\n",
              "    }\n",
              "\n",
              "    .colab-df-convert:hover {\n",
              "      background-color: #E2EBFA;\n",
              "      box-shadow: 0px 1px 2px rgba(60, 64, 67, 0.3), 0px 1px 3px 1px rgba(60, 64, 67, 0.15);\n",
              "      fill: #174EA6;\n",
              "    }\n",
              "\n",
              "    [theme=dark] .colab-df-convert {\n",
              "      background-color: #3B4455;\n",
              "      fill: #D2E3FC;\n",
              "    }\n",
              "\n",
              "    [theme=dark] .colab-df-convert:hover {\n",
              "      background-color: #434B5C;\n",
              "      box-shadow: 0px 1px 3px 1px rgba(0, 0, 0, 0.15);\n",
              "      filter: drop-shadow(0px 1px 2px rgba(0, 0, 0, 0.3));\n",
              "      fill: #FFFFFF;\n",
              "    }\n",
              "  </style>\n",
              "\n",
              "      <script>\n",
              "        const buttonEl =\n",
              "          document.querySelector('#df-351d8c26-04af-4a48-a8f1-0e79e054bfe3 button.colab-df-convert');\n",
              "        buttonEl.style.display =\n",
              "          google.colab.kernel.accessAllowed ? 'block' : 'none';\n",
              "\n",
              "        async function convertToInteractive(key) {\n",
              "          const element = document.querySelector('#df-351d8c26-04af-4a48-a8f1-0e79e054bfe3');\n",
              "          const dataTable =\n",
              "            await google.colab.kernel.invokeFunction('convertToInteractive',\n",
              "                                                     [key], {});\n",
              "          if (!dataTable) return;\n",
              "\n",
              "          const docLinkHtml = 'Like what you see? Visit the ' +\n",
              "            '<a target=\"_blank\" href=https://colab.research.google.com/notebooks/data_table.ipynb>data table notebook</a>'\n",
              "            + ' to learn more about interactive tables.';\n",
              "          element.innerHTML = '';\n",
              "          dataTable['output_type'] = 'display_data';\n",
              "          await google.colab.output.renderOutput(dataTable, element);\n",
              "          const docLink = document.createElement('div');\n",
              "          docLink.innerHTML = docLinkHtml;\n",
              "          element.appendChild(docLink);\n",
              "        }\n",
              "      </script>\n",
              "    </div>\n",
              "  </div>\n",
              "  "
            ]
          },
          "metadata": {},
          "execution_count": 26
        }
      ],
      "source": [
        "# Adjusted P-Value use the Bonferroni-adjusted method\n",
        "\n",
        "# Initiate empty dictionary\n",
        "check = {}\n",
        "# Iteration for product_importance column\n",
        "for i in res[res['Hypothesis'] == 'Reject Null Hypothesis']['Column']:\n",
        "    # One hot encoding product_importance column\n",
        "    dummies = pd.get_dummies(df_dt[i])\n",
        "    # Initiate Bonferroni-adjusted formula\n",
        "    bon_p_value = 0.05/df_dt[i].nunique()\n",
        "    for series in dummies:\n",
        "        if chi2_contingency(pd.crosstab(df_dt['is_late'], dummies[series]))[1] < bon_p_value:\n",
        "            check['{}-{}'.format(i, series)] = 'Reject Null Hypothesis'\n",
        "        else :\n",
        "            check['{}-{}'.format(i, series)] = 'Fail to Reject Null Hypothesis'\n",
        "# Make the result into dataframe\n",
        "res_chi_ph = pd.DataFrame(data=[check.keys(), check.values()]).T\n",
        "# Rename the columns\n",
        "res_chi_ph.columns = ['Pair', 'Hypothesis']\n",
        "res_chi_ph"
      ],
      "id": "15233b0f"
    },
    {
      "cell_type": "markdown",
      "metadata": {
        "id": "a640da7e"
      },
      "source": [
        "From the result above, `product_importance` with **high** category has a correlation with our target."
      ],
      "id": "a640da7e"
    },
    {
      "cell_type": "markdown",
      "metadata": {
        "id": "27c6b339"
      },
      "source": [
        "#### Feature Encoding : One hot encoding"
      ],
      "id": "27c6b339"
    },
    {
      "cell_type": "code",
      "execution_count": null,
      "metadata": {
        "colab": {
          "base_uri": "https://localhost:8080/"
        },
        "id": "93dc55b1",
        "outputId": "db962cca-bce1-4209-a804-949c9763917b"
      },
      "outputs": [
        {
          "output_type": "stream",
          "name": "stdout",
          "text": [
            "<class 'pandas.core.frame.DataFrame'>\n",
            "RangeIndex: 10999 entries, 0 to 10998\n",
            "Data columns (total 8 columns):\n",
            " #   Column                   Non-Null Count  Dtype  \n",
            "---  ------                   --------------  -----  \n",
            " 0   customer_care_calls      10999 non-null  float64\n",
            " 1   customer_rating          10999 non-null  int64  \n",
            " 2   cost_of_the_product      10999 non-null  float64\n",
            " 3   prior_purchases          10999 non-null  float64\n",
            " 4   discount_offered         10999 non-null  float64\n",
            " 5   weight_in_gms            10999 non-null  float64\n",
            " 6   is_late                  10999 non-null  int64  \n",
            " 7   product_importance_high  10999 non-null  uint8  \n",
            "dtypes: float64(5), int64(2), uint8(1)\n",
            "memory usage: 612.4 KB\n"
          ]
        }
      ],
      "source": [
        "# one hot encoding feature product_importance and keep high category\n",
        "onehots = pd.get_dummies(df_dt['product_importance'], prefix = 'product_importance')\n",
        "df_dt = df_dt.join(onehots)\n",
        "\n",
        "# drop all categorical columns & 'id, except product_importance_high\n",
        "df_dt.drop(columns=['warehouse_block','gender','mode_of_shipment',\n",
        "                   'product_importance', 'product_importance_low',\n",
        "                   'product_importance_medium','id'], inplace = True)\n",
        "# check dataframe after encoding\n",
        "df_dt.info()"
      ],
      "id": "93dc55b1"
    },
    {
      "cell_type": "markdown",
      "metadata": {
        "id": "aa8b5151"
      },
      "source": [
        "## Exploratory Data Analysis (EDA)"
      ],
      "id": "aa8b5151"
    },
    {
      "cell_type": "code",
      "execution_count": null,
      "metadata": {
        "id": "37b38f97"
      },
      "outputs": [],
      "source": [
        "# Copy dataset\n",
        "df_eda = df.copy()"
      ],
      "id": "37b38f97"
    },
    {
      "cell_type": "markdown",
      "metadata": {
        "id": "e9581e5e"
      },
      "source": [
        "### Target Visualization"
      ],
      "id": "e9581e5e"
    },
    {
      "cell_type": "code",
      "execution_count": null,
      "metadata": {
        "colab": {
          "base_uri": "https://localhost:8080/",
          "height": 264
        },
        "id": "b25beb2c",
        "outputId": "7d8869b3-75ce-4eff-902d-19564b69e15c"
      },
      "outputs": [
        {
          "output_type": "display_data",
          "data": {
            "text/plain": [
              "<Figure size 432x288 with 1 Axes>"
            ],
            "image/png": "[encoded data removed]"
          },
          "metadata": {}
        }
      ],
      "source": [
        "delay = pd.DataFrame(df_eda.groupby(['is_late'])['id'].count()/len(df_eda)).reset_index()\n",
        "plt.pie(delay['id'],labels=delay['is_late'],autopct='%.2f%%');"
      ],
      "id": "b25beb2c"
    },
    {
      "cell_type": "markdown",
      "metadata": {
        "id": "f05ecba1"
      },
      "source": [
        "The class of target looks balance."
      ],
      "id": "f05ecba1"
    },
    {
      "cell_type": "markdown",
      "metadata": {
        "id": "66b50d47"
      },
      "source": [
        "### Descriptive Statistic"
      ],
      "id": "66b50d47"
    },
    {
      "cell_type": "markdown",
      "metadata": {
        "id": "06604d4d"
      },
      "source": [
        "#### Categorical values"
      ],
      "id": "06604d4d"
    },
    {
      "cell_type": "code",
      "execution_count": null,
      "metadata": {
        "colab": {
          "base_uri": "https://localhost:8080/"
        },
        "id": "d8cc88ac",
        "outputId": "018d3459-fa23-49f7-8aa2-8ff35447a349"
      },
      "outputs": [
        {
          "output_type": "stream",
          "name": "stdout",
          "text": [
            "Value count kolom warehouse_block :\n",
            "F    3666\n",
            "D    1834\n",
            "A    1833\n",
            "B    1833\n",
            "C    1833\n",
            "Name: warehouse_block, dtype: int64\n",
            "\n",
            "Value count kolom mode_of_shipment :\n",
            "Ship      7462\n",
            "Flight    1777\n",
            "Road      1760\n",
            "Name: mode_of_shipment, dtype: int64\n",
            "\n",
            "Value count kolom product_importance :\n",
            "low       5297\n",
            "medium    4754\n",
            "high       948\n",
            "Name: product_importance, dtype: int64\n",
            "\n",
            "Value count kolom gender :\n",
            "F    5545\n",
            "M    5454\n",
            "Name: gender, dtype: int64\n",
            "\n",
            "Value count kolom is_late :\n",
            "1    6563\n",
            "0    4436\n",
            "Name: is_late, dtype: int64\n",
            "\n",
            "Value count kolom customer_rating :\n",
            "3    2239\n",
            "1    2235\n",
            "4    2189\n",
            "5    2171\n",
            "2    2165\n",
            "Name: customer_rating, dtype: int64\n",
            "\n"
          ]
        }
      ],
      "source": [
        "# for categorical column\n",
        "for col in categorical:\n",
        "    print('Value count kolom', col, ':')\n",
        "    print(df_eda[col].value_counts())\n",
        "    print()"
      ],
      "id": "d8cc88ac"
    },
    {
      "cell_type": "code",
      "execution_count": null,
      "metadata": {
        "colab": {
          "base_uri": "https://localhost:8080/",
          "height": 709
        },
        "id": "fd6473a7",
        "outputId": "68611331-5cd7-44b5-93ad-eb350d25eeb9"
      },
      "outputs": [
        {
          "output_type": "error",
          "ename": "ValueError",
          "evalue": "ignored",
          "traceback": [
            "\u001b[0;31m---------------------------------------------------------------------------\u001b[0m",
            "\u001b[0;31mValueError\u001b[0m                                Traceback (most recent call last)",
            "\u001b[0;32m<ipython-input-32-bb659acdb8be>\u001b[0m in \u001b[0;36m<module>\u001b[0;34m\u001b[0m\n\u001b[1;32m      4\u001b[0m \u001b[0;34m\u001b[0m\u001b[0m\n\u001b[1;32m      5\u001b[0m     \u001b[0mplt\u001b[0m\u001b[0;34m.\u001b[0m\u001b[0msubplot\u001b[0m\u001b[0;34m(\u001b[0m\u001b[0;36m141\u001b[0m\u001b[0;34m)\u001b[0m\u001b[0;34m;\u001b[0m\u001b[0;34m\u001b[0m\u001b[0;34m\u001b[0m\u001b[0m\n\u001b[0;32m----> 6\u001b[0;31m     \u001b[0msns\u001b[0m\u001b[0;34m.\u001b[0m\u001b[0mcountplot\u001b[0m\u001b[0;34m(\u001b[0m\u001b[0mdf_eda\u001b[0m\u001b[0;34m[\u001b[0m\u001b[0mcol\u001b[0m\u001b[0;34m]\u001b[0m\u001b[0;34m,\u001b[0m \u001b[0mpalette\u001b[0m \u001b[0;34m=\u001b[0m \u001b[0;34m'colorblind'\u001b[0m\u001b[0;34m,\u001b[0m \u001b[0morient\u001b[0m\u001b[0;34m=\u001b[0m\u001b[0;34m'v'\u001b[0m\u001b[0;34m)\u001b[0m\u001b[0;34m;\u001b[0m\u001b[0;34m\u001b[0m\u001b[0;34m\u001b[0m\u001b[0m\n\u001b[0m\u001b[1;32m      7\u001b[0m     \u001b[0mplt\u001b[0m\u001b[0;34m.\u001b[0m\u001b[0mtitle\u001b[0m\u001b[0;34m(\u001b[0m\u001b[0;34m'Countplot'\u001b[0m\u001b[0;34m)\u001b[0m\u001b[0;34m\u001b[0m\u001b[0;34m\u001b[0m\u001b[0m\n\u001b[1;32m      8\u001b[0m     \u001b[0mplt\u001b[0m\u001b[0;34m.\u001b[0m\u001b[0mtight_layout\u001b[0m\u001b[0;34m(\u001b[0m\u001b[0;34m)\u001b[0m\u001b[0;34m;\u001b[0m\u001b[0;34m\u001b[0m\u001b[0;34m\u001b[0m\u001b[0m\n",
            "\u001b[0;32m/usr/local/lib/python3.9/dist-packages/seaborn/categorical.py\u001b[0m in \u001b[0;36mcountplot\u001b[0;34m(data, x, y, hue, order, hue_order, orient, color, palette, saturation, width, dodge, ax, **kwargs)\u001b[0m\n\u001b[1;32m   2941\u001b[0m         \u001b[0;32mraise\u001b[0m \u001b[0mValueError\u001b[0m\u001b[0;34m(\u001b[0m\u001b[0;34m\"Cannot pass values for both `x` and `y`\"\u001b[0m\u001b[0;34m)\u001b[0m\u001b[0;34m\u001b[0m\u001b[0;34m\u001b[0m\u001b[0m\n\u001b[1;32m   2942\u001b[0m \u001b[0;34m\u001b[0m\u001b[0m\n\u001b[0;32m-> 2943\u001b[0;31m     plotter = _CountPlotter(\n\u001b[0m\u001b[1;32m   2944\u001b[0m         \u001b[0mx\u001b[0m\u001b[0;34m,\u001b[0m \u001b[0my\u001b[0m\u001b[0;34m,\u001b[0m \u001b[0mhue\u001b[0m\u001b[0;34m,\u001b[0m \u001b[0mdata\u001b[0m\u001b[0;34m,\u001b[0m \u001b[0morder\u001b[0m\u001b[0;34m,\u001b[0m \u001b[0mhue_order\u001b[0m\u001b[0;34m,\u001b[0m\u001b[0;34m\u001b[0m\u001b[0;34m\u001b[0m\u001b[0m\n\u001b[1;32m   2945\u001b[0m         \u001b[0mestimator\u001b[0m\u001b[0;34m,\u001b[0m \u001b[0merrorbar\u001b[0m\u001b[0;34m,\u001b[0m \u001b[0mn_boot\u001b[0m\u001b[0;34m,\u001b[0m \u001b[0munits\u001b[0m\u001b[0;34m,\u001b[0m \u001b[0mseed\u001b[0m\u001b[0;34m,\u001b[0m\u001b[0;34m\u001b[0m\u001b[0;34m\u001b[0m\u001b[0m\n",
            "\u001b[0;32m/usr/local/lib/python3.9/dist-packages/seaborn/categorical.py\u001b[0m in \u001b[0;36m__init__\u001b[0;34m(self, x, y, hue, data, order, hue_order, estimator, errorbar, n_boot, units, seed, orient, color, palette, saturation, width, errcolor, errwidth, capsize, dodge)\u001b[0m\n\u001b[1;32m   1528\u001b[0m                  errcolor, errwidth, capsize, dodge):\n\u001b[1;32m   1529\u001b[0m         \u001b[0;34m\"\"\"Initialize the plotter.\"\"\"\u001b[0m\u001b[0;34m\u001b[0m\u001b[0;34m\u001b[0m\u001b[0m\n\u001b[0;32m-> 1530\u001b[0;31m         self.establish_variables(x, y, hue, data, orient,\n\u001b[0m\u001b[1;32m   1531\u001b[0m                                  order, hue_order, units)\n\u001b[1;32m   1532\u001b[0m         \u001b[0mself\u001b[0m\u001b[0;34m.\u001b[0m\u001b[0mestablish_colors\u001b[0m\u001b[0;34m(\u001b[0m\u001b[0mcolor\u001b[0m\u001b[0;34m,\u001b[0m \u001b[0mpalette\u001b[0m\u001b[0;34m,\u001b[0m \u001b[0msaturation\u001b[0m\u001b[0;34m)\u001b[0m\u001b[0;34m\u001b[0m\u001b[0;34m\u001b[0m\u001b[0m\n",
            "\u001b[0;32m/usr/local/lib/python3.9/dist-packages/seaborn/categorical.py\u001b[0m in \u001b[0;36mestablish_variables\u001b[0;34m(self, x, y, hue, data, orient, order, hue_order, units)\u001b[0m\n\u001b[1;32m    514\u001b[0m \u001b[0;34m\u001b[0m\u001b[0m\n\u001b[1;32m    515\u001b[0m                 \u001b[0;31m# Convert to a list of arrays, the common representation\u001b[0m\u001b[0;34m\u001b[0m\u001b[0;34m\u001b[0m\u001b[0m\n\u001b[0;32m--> 516\u001b[0;31m                 \u001b[0mplot_data\u001b[0m \u001b[0;34m=\u001b[0m \u001b[0;34m[\u001b[0m\u001b[0mnp\u001b[0m\u001b[0;34m.\u001b[0m\u001b[0masarray\u001b[0m\u001b[0;34m(\u001b[0m\u001b[0md\u001b[0m\u001b[0;34m,\u001b[0m \u001b[0mfloat\u001b[0m\u001b[0;34m)\u001b[0m \u001b[0;32mfor\u001b[0m \u001b[0md\u001b[0m \u001b[0;32min\u001b[0m \u001b[0mplot_data\u001b[0m\u001b[0;34m]\u001b[0m\u001b[0;34m\u001b[0m\u001b[0;34m\u001b[0m\u001b[0m\n\u001b[0m\u001b[1;32m    517\u001b[0m \u001b[0;34m\u001b[0m\u001b[0m\n\u001b[1;32m    518\u001b[0m                 \u001b[0;31m# The group names will just be numeric indices\u001b[0m\u001b[0;34m\u001b[0m\u001b[0;34m\u001b[0m\u001b[0m\n",
            "\u001b[0;32m/usr/local/lib/python3.9/dist-packages/seaborn/categorical.py\u001b[0m in \u001b[0;36m<listcomp>\u001b[0;34m(.0)\u001b[0m\n\u001b[1;32m    514\u001b[0m \u001b[0;34m\u001b[0m\u001b[0m\n\u001b[1;32m    515\u001b[0m                 \u001b[0;31m# Convert to a list of arrays, the common representation\u001b[0m\u001b[0;34m\u001b[0m\u001b[0;34m\u001b[0m\u001b[0m\n\u001b[0;32m--> 516\u001b[0;31m                 \u001b[0mplot_data\u001b[0m \u001b[0;34m=\u001b[0m \u001b[0;34m[\u001b[0m\u001b[0mnp\u001b[0m\u001b[0;34m.\u001b[0m\u001b[0masarray\u001b[0m\u001b[0;34m(\u001b[0m\u001b[0md\u001b[0m\u001b[0;34m,\u001b[0m \u001b[0mfloat\u001b[0m\u001b[0;34m)\u001b[0m \u001b[0;32mfor\u001b[0m \u001b[0md\u001b[0m \u001b[0;32min\u001b[0m \u001b[0mplot_data\u001b[0m\u001b[0;34m]\u001b[0m\u001b[0;34m\u001b[0m\u001b[0;34m\u001b[0m\u001b[0m\n\u001b[0m\u001b[1;32m    517\u001b[0m \u001b[0;34m\u001b[0m\u001b[0m\n\u001b[1;32m    518\u001b[0m                 \u001b[0;31m# The group names will just be numeric indices\u001b[0m\u001b[0;34m\u001b[0m\u001b[0;34m\u001b[0m\u001b[0m\n",
            "\u001b[0;32m/usr/local/lib/python3.9/dist-packages/pandas/core/series.py\u001b[0m in \u001b[0;36m__array__\u001b[0;34m(self, dtype)\u001b[0m\n\u001b[1;32m    870\u001b[0m               dtype='datetime64[ns]')\n\u001b[1;32m    871\u001b[0m         \"\"\"\n\u001b[0;32m--> 872\u001b[0;31m         \u001b[0;32mreturn\u001b[0m \u001b[0mnp\u001b[0m\u001b[0;34m.\u001b[0m\u001b[0masarray\u001b[0m\u001b[0;34m(\u001b[0m\u001b[0mself\u001b[0m\u001b[0;34m.\u001b[0m\u001b[0m_values\u001b[0m\u001b[0;34m,\u001b[0m \u001b[0mdtype\u001b[0m\u001b[0;34m)\u001b[0m\u001b[0;34m\u001b[0m\u001b[0;34m\u001b[0m\u001b[0m\n\u001b[0m\u001b[1;32m    873\u001b[0m \u001b[0;34m\u001b[0m\u001b[0m\n\u001b[1;32m    874\u001b[0m     \u001b[0;31m# ----------------------------------------------------------------------\u001b[0m\u001b[0;34m\u001b[0m\u001b[0;34m\u001b[0m\u001b[0m\n",
            "\u001b[0;31mValueError\u001b[0m: could not convert string to float: 'D'"
          ]
        },
        {
          "output_type": "display_data",
          "data": {
            "text/plain": [
              "<Figure size 1080x360 with 1 Axes>"
            ],
            "image/png": "[encoded data removed]"
          },
          "metadata": {}
        }
      ],
      "source": [
        "# Plot categorical columns\n",
        "for col in categorical:\n",
        "    plt.figure(figsize=(15, 5))\n",
        "    \n",
        "    plt.subplot(141);\n",
        "    sns.countplot(df_eda[col], palette = 'colorblind', orient='v');\n",
        "    plt.title('Countplot')\n",
        "    plt.tight_layout();\n",
        "    \n",
        "    \n",
        "    plt.subplot(143);\n",
        "    df_eda[col].value_counts().plot.pie(autopct='%1.2f%%');\n",
        "    plt.title('Pie chart')\n",
        "    plt.legend()  "
      ],
      "id": "fd6473a7"
    },
    {
      "cell_type": "markdown",
      "metadata": {
        "id": "1aa58930"
      },
      "source": [
        "**Summary :**\n",
        "- **Warehouse_Block** has 5 unique values and dominated with `Warehouse_block_f`.\n",
        "- **Mode_of_Shipment** has 3 unique values and mostly used ship.\n",
        "- **Product_importance** has 3 unique values and mostly priority of products are low.\n",
        "- Female customers are often shopping than male.\n",
        "\n",
        "\n",
        "\n"
      ],
      "id": "1aa58930"
    },
    {
      "cell_type": "markdown",
      "metadata": {
        "id": "e12f2162"
      },
      "source": [
        "#### Numeric values"
      ],
      "id": "e12f2162"
    },
    {
      "cell_type": "code",
      "execution_count": null,
      "metadata": {
        "id": "a73273e6"
      },
      "outputs": [],
      "source": [
        "df_eda[numeric].describe()"
      ],
      "id": "a73273e6"
    },
    {
      "cell_type": "markdown",
      "metadata": {
        "id": "639e67eb"
      },
      "source": [
        "**Summary :**\n",
        "- Distribution of **customer_care_calls**, **Customer_rating**, **Cost_of_the_Product**, **Prior_purchases** look normal, beacuse the mean and the median are close, while  **discount_offered** and **weight_in_grams** are indicated skewed.\n",
        "\n",
        "\n"
      ],
      "id": "639e67eb"
    },
    {
      "cell_type": "markdown",
      "metadata": {
        "id": "328ca3b9"
      },
      "source": [
        "#### Correlation Heatmap"
      ],
      "id": "328ca3b9"
    },
    {
      "cell_type": "code",
      "execution_count": null,
      "metadata": {
        "id": "9fccd17c"
      },
      "outputs": [],
      "source": [
        "plt.figure(figsize=(7,6));\n",
        "sns.heatmap(df_eda.corr(), annot = True, fmt = '.2f', cmap = 'Reds');"
      ],
      "id": "9fccd17c"
    },
    {
      "cell_type": "markdown",
      "metadata": {
        "id": "4444bd44"
      },
      "source": [
        "Based on the *Correlation heatmap* above :  \n",
        "1. Target *is_late* has a moderate positive correlation with *discount_offered* & weak negative correlation with *weight_in_gms*.\n",
        "2. Feature *customer_care_calss* has a weak positive correlation with *cost_of_the_product* and negative correlation with *weight_in_gms*.\n",
        "3. Feature *discount_offered* has a moderate negative correlation with *weight_in_gms*.\n"
      ],
      "id": "4444bd44"
    },
    {
      "cell_type": "markdown",
      "metadata": {
        "id": "f0a1fc49"
      },
      "source": [
        "#### Pairplot"
      ],
      "id": "f0a1fc49"
    },
    {
      "cell_type": "code",
      "execution_count": null,
      "metadata": {
        "id": "10c4d273"
      },
      "outputs": [],
      "source": [],
      "id": "10c4d273"
    },
    {
      "cell_type": "code",
      "execution_count": null,
      "metadata": {
        "id": "6f1b3beb"
      },
      "outputs": [],
      "source": [
        "plt.figure(figsize=(5, 5));\n",
        "p = sns.pairplot(df_eda, markers = '+', diag_kind = 'kde', hue = 'is_late');\n",
        "# title\n",
        "new_title = 'Shipment ?'\n",
        "p._legend.set_title(new_title);\n",
        "\n",
        "# replace labels\n",
        "new_labels = ['on_time', 'late']\n",
        "for t, l in zip(p._legend.texts, new_labels): t.set_text(l);"
      ],
      "id": "6f1b3beb"
    },
    {
      "cell_type": "markdown",
      "metadata": {
        "id": "c50dd42a"
      },
      "source": [
        "**Summary :**\n",
        "- The shipment tends to deliver on time when the discount under 10% and weight is 1 - 2 Kg & 4 - 6 Kg.\n",
        "- Most of products that cost around $300 delivered on time, others late.\n",
        "- Majority customers who get the late parcels are more likely to call customer care, no matter how often they called."
      ],
      "id": "c50dd42a"
    },
    {
      "cell_type": "markdown",
      "metadata": {
        "id": "3b9f86e9"
      },
      "source": [
        "#### Categorical - Categorical"
      ],
      "id": "3b9f86e9"
    },
    {
      "cell_type": "markdown",
      "metadata": {
        "id": "5abb21b5"
      },
      "source": [
        "##### Based on Gender"
      ],
      "id": "5abb21b5"
    },
    {
      "cell_type": "code",
      "execution_count": null,
      "metadata": {
        "id": "f4461416"
      },
      "outputs": [],
      "source": [
        "i=1\n",
        "plt.figure(figsize=(15,10))\n",
        "for col in ['mode_of_shipment', 'warehouse_block', 'product_importance']:\n",
        "    plt.subplot(2,2,i)\n",
        "    sns.countplot(df_eda[col], hue=df_eda['gender'], palette=\"ch:.25\")\n",
        "    i+=1"
      ],
      "id": "f4461416"
    },
    {
      "cell_type": "markdown",
      "metadata": {
        "id": "ebd5add4"
      },
      "source": [
        "**Summary :**  \n",
        "- Total parcels of female customers in the warehouse_block are more dominant than male customers, except in warehouse_block B."
      ],
      "id": "ebd5add4"
    },
    {
      "cell_type": "markdown",
      "metadata": {
        "id": "9ff1da96"
      },
      "source": [
        "##### Based on Product Importance"
      ],
      "id": "9ff1da96"
    },
    {
      "cell_type": "code",
      "execution_count": null,
      "metadata": {
        "id": "dcefd095"
      },
      "outputs": [],
      "source": [
        "i=1\n",
        "plt.figure(figsize=(15,10))\n",
        "for col in ['mode_of_shipment', 'warehouse_block']:\n",
        "    plt.subplot(2,2,i)\n",
        "    sns.countplot(df_eda[col], hue=df_eda['product_importance'], palette=\"ch:.25\")\n",
        "    i+=1"
      ],
      "id": "dcefd095"
    },
    {
      "cell_type": "markdown",
      "metadata": {
        "id": "7ae3fb38"
      },
      "source": [
        "**Summary :**  \n",
        "- Mostly high & low priority parcels used ship.\n",
        "\n"
      ],
      "id": "7ae3fb38"
    },
    {
      "cell_type": "markdown",
      "metadata": {
        "id": "c6d0e3d2"
      },
      "source": [
        "##### Warehouse block - Mode of Shipment"
      ],
      "id": "c6d0e3d2"
    },
    {
      "cell_type": "code",
      "execution_count": null,
      "metadata": {
        "id": "1c9bfa8d"
      },
      "outputs": [],
      "source": [
        "sns.catplot(x=\"warehouse_block\", kind=\"count\", hue='mode_of_shipment',\n",
        "            palette=\"ch:.25\", data=df_eda);"
      ],
      "id": "1c9bfa8d"
    },
    {
      "cell_type": "markdown",
      "metadata": {
        "id": "7d5196c7"
      },
      "source": [
        "##### Based on target 'is_late'"
      ],
      "id": "7d5196c7"
    },
    {
      "cell_type": "code",
      "execution_count": null,
      "metadata": {
        "id": "ad0a22bb"
      },
      "outputs": [],
      "source": [
        "i=1\n",
        "plt.figure(figsize=(15,10))\n",
        "for col in ['mode_of_shipment', 'warehouse_block', 'product_importance',\n",
        "            'gender','customer_rating']:\n",
        "    plt.subplot(2,3,i)\n",
        "    sns.countplot(df_eda[col], hue=df_eda['is_late'], palette=\"ch:.25\")\n",
        "    i+=1\n",
        "    plt.legend(['on_time','late']);"
      ],
      "id": "ad0a22bb"
    },
    {
      "cell_type": "markdown",
      "metadata": {
        "id": "604551b8"
      },
      "source": [
        "**Summary :**  \n",
        "- Most of parcels are stored in warehouse_block F.\n",
        "- The ship contributes the most late delivery.\n",
        "- Most of parcels in all shipment priority are delivered late."
      ],
      "id": "604551b8"
    },
    {
      "cell_type": "markdown",
      "metadata": {
        "id": "66029d3c"
      },
      "source": [
        "# Machine Learning Modelling & Evaluation"
      ],
      "id": "66029d3c"
    },
    {
      "cell_type": "markdown",
      "metadata": {
        "id": "5390cd3c"
      },
      "source": [
        "### Separate feature & target column"
      ],
      "id": "5390cd3c"
    },
    {
      "cell_type": "code",
      "execution_count": null,
      "metadata": {
        "id": "a6f8fd65"
      },
      "outputs": [],
      "source": [
        "# Inititate feature & target\n",
        "X = df_dt.drop(columns = 'is_late')\n",
        "y = df_dt['is_late']"
      ],
      "id": "a6f8fd65"
    },
    {
      "cell_type": "markdown",
      "metadata": {
        "id": "1ec0dd21"
      },
      "source": [
        "### Split train & test data"
      ],
      "id": "1ec0dd21"
    },
    {
      "cell_type": "code",
      "execution_count": null,
      "metadata": {
        "id": "e04bed37"
      },
      "outputs": [],
      "source": [
        "# Split Train & Test Data\n",
        "Xtrain, Xtest, ytrain, ytest = train_test_split(X, y, test_size=0.30, random_state=42)"
      ],
      "id": "e04bed37"
    },
    {
      "cell_type": "markdown",
      "metadata": {
        "id": "5416d253"
      },
      "source": [
        "### Fit & Evaluation Model"
      ],
      "id": "5416d253"
    },
    {
      "cell_type": "code",
      "execution_count": null,
      "metadata": {
        "id": "f9450298"
      },
      "outputs": [],
      "source": [
        "# Create function to fit model & model evaluation\n",
        "def fit_evaluation(Model, Xtrain, ytrain, Xtest, ytest):\n",
        "    model = Model # initiate model\n",
        "    model.fit(Xtrain, ytrain) # fit the model\n",
        "    y_pred = model.predict(Xtest)\n",
        "    y_pred_train = model.predict(Xtrain)\n",
        "    train_score = model.score(Xtrain, ytrain) # Train Accuracy\n",
        "    test_score = model.score(Xtest, ytest)    # Test Accuracy\n",
        "    fpr, tpr, thresholds = roc_curve(ytest, y_pred, pos_label=1)\n",
        "    AUC = auc(fpr, tpr) # AUC\n",
        "    return round(train_score,2), round(test_score,2), round(precision_score(ytest, y_pred),2), \\\n",
        "           round(recall_score(ytrain, y_pred_train),2),round(recall_score(ytest, y_pred),2), \\\n",
        "           round(f1_score(ytest, y_pred),2), round(AUC,2)"
      ],
      "id": "f9450298"
    },
    {
      "cell_type": "markdown",
      "metadata": {
        "id": "0a9fa089"
      },
      "source": [
        "#### Default Parameter"
      ],
      "id": "0a9fa089"
    },
    {
      "cell_type": "code",
      "execution_count": null,
      "metadata": {
        "id": "fb5508bd"
      },
      "outputs": [],
      "source": [
        "# Inititate algorithm\n",
        "lr = LogisticRegression(random_state=42)\n",
        "dt = DecisionTreeClassifier(random_state=42)\n",
        "rf = RandomForestClassifier(random_state=42)\n",
        "knn = KNeighborsClassifier(n_neighbors=5)\n",
        "svc = SVC(random_state=42)\n",
        "xgb = XGBClassifier(random_state=42, eval_metric = 'logloss')\n",
        "\n",
        "# Create function to make the result as dataframe \n",
        "def model_comparison_default(X,y):  \n",
        "    \n",
        "    # Logistic Regression\n",
        "    lr_train_score, lr_test_score, lr_pr, lrtr_re, lrte_re, lr_f1, lr_auc = fit_evaluation(\n",
        "        lr, Xtrain, ytrain, Xtest, ytest)\n",
        "    # Decision Tree\n",
        "    dt_train_score, dt_test_score, dt_pr, dttr_re, dtte_re, dt_f1, dt_auc = fit_evaluation(\n",
        "        dt, Xtrain, ytrain, Xtest, ytest)\n",
        "    # Random Forest\n",
        "    rf_train_score, rf_test_score, rf_pr, rftr_re, rfte_re, rf_f1, rf_auc = fit_evaluation(\n",
        "        rf, Xtrain, ytrain, Xtest, ytest)\n",
        "    # KNN\n",
        "    knn_train_score, knn_test_score, knn_pr, knntr_re, knnte_re, knn_f1, knn_auc = fit_evaluation(\n",
        "        knn, Xtrain, ytrain, Xtest, ytest)\n",
        "    # SVC\n",
        "    svc_train_score, svc_test_score, svc_pr, svctr_re, svcte_re, svc_f1, svc_auc = fit_evaluation(\n",
        "        svc, Xtrain, ytrain, Xtest, ytest)\n",
        "    # XGBoost\n",
        "    xgb_train_score, xgb_test_score, xgb_pr, xgbtr_re, xgbte_re, xgb_f1, xgb_auc = fit_evaluation(\n",
        "        xgb, Xtrain, ytrain, Xtest, ytest)\n",
        "    \n",
        "    \n",
        "    models = ['Logistic Regression','Decision Tree','Random Forest',\n",
        "             'KNN','SVC','XGBoost']\n",
        "    train_score = [lr_train_score, dt_train_score, rf_train_score, \n",
        "                   knn_train_score, svc_train_score, xgb_train_score]\n",
        "    test_score = [lr_test_score, dt_test_score, rf_test_score,\n",
        "                  knn_test_score, svc_test_score, xgb_test_score]\n",
        "    precision = [lr_pr, dt_pr, rf_pr, knn_pr, svc_pr, xgb_pr]\n",
        "    recall_train = [lrtr_re, dttr_re, rftr_re, knntr_re, svctr_re, xgbtr_re]\n",
        "    recall_test = [lrte_re, dtte_re, rfte_re, knnte_re, svcte_re, xgbte_re]\n",
        "    f1 = [lr_f1, dt_f1, rf_f1, knn_f1, svc_f1, xgb_f1]\n",
        "    auc = [lr_auc, dt_auc, rf_auc, knn_auc, svc_auc, xgb_auc]\n",
        "    \n",
        "    model_comparison = pd.DataFrame(data=[models, train_score, test_score, \n",
        "                                          precision, recall_train, recall_test,\n",
        "                                          f1,auc]).T.rename({0: 'Model',\n",
        "                                                             1: 'Accuracy_Train',\n",
        "                                                             2: 'Accuracy_Test',\n",
        "                                                             3: 'Precision',\n",
        "                                                             4: 'Recall_Train',\n",
        "                                                             5: 'Recall_Test',\n",
        "                                                             6: 'F1 Score',\n",
        "                                                             7: 'AUC'\n",
        "                                                                                  }, axis=1)\n",
        "    \n",
        "    return model_comparison"
      ],
      "id": "fb5508bd"
    },
    {
      "cell_type": "code",
      "execution_count": null,
      "metadata": {
        "id": "8cfb8dd3"
      },
      "outputs": [],
      "source": [
        "model_comparison_default(X,y)"
      ],
      "id": "8cfb8dd3"
    },
    {
      "cell_type": "markdown",
      "metadata": {
        "id": "64e1cefb"
      },
      "source": [
        "From the result above, only **Logistic Regression and SVC which are neither overfitting nor underfiting**. Logistic Regression has the highest recall. Let's see with tuned parameter."
      ],
      "id": "64e1cefb"
    },
    {
      "cell_type": "markdown",
      "metadata": {
        "id": "420bf32d"
      },
      "source": [
        "### Hyperparameter"
      ],
      "id": "420bf32d"
    },
    {
      "cell_type": "markdown",
      "metadata": {
        "id": "8d32c057"
      },
      "source": [
        "#### Logistic Regression"
      ],
      "id": "8d32c057"
    },
    {
      "cell_type": "code",
      "execution_count": null,
      "metadata": {
        "id": "c621672d"
      },
      "outputs": [],
      "source": [
        "# List Hyperparameters yang akan diuji\n",
        "penalty = ['l2','l1','elasticnet']\n",
        "C = [0.0001, 0.001, 0.002] # Inverse of regularization strength; smaller values specify stronger regularization.\n",
        "hyperparameters = dict(penalty=penalty, C=C)\n",
        "\n",
        "# Inisiasi model\n",
        "logres = LogisticRegression(random_state=42) # Init Logres dengan Gridsearch, cross validation = 5\n",
        "model = RandomizedSearchCV(logres, hyperparameters, cv=5, random_state=42,  scoring='recall')\n",
        "\n",
        "# Fitting Model & Evaluation\n",
        "model.fit(Xtrain, ytrain)\n",
        "y_pred = model.predict(Xtest)\n",
        "model.best_estimator_"
      ],
      "id": "c621672d"
    },
    {
      "cell_type": "markdown",
      "metadata": {
        "id": "d8584994"
      },
      "source": [
        "#### Decision Tree"
      ],
      "id": "d8584994"
    },
    {
      "cell_type": "code",
      "execution_count": null,
      "metadata": {
        "id": "b80bb8ed"
      },
      "outputs": [],
      "source": [
        "# Let's do hyperparameter tuning using RandomizesearchCV\n",
        "\n",
        "# Hyperparameter lists to be tested\n",
        "max_depth = list(range(1,10)) \n",
        "min_samples_split = list(range(5,10)) \n",
        "min_samples_leaf = list(range(5,15)) \n",
        "max_features = ['auto', 'sqrt', 'log2'] \n",
        "criterion = ['gini','entropy']\n",
        "splitter = ['best','random']\n",
        "\n",
        "# Initiate hyperparameters\n",
        "hyperparameters = dict(max_depth=max_depth, \n",
        "                       min_samples_split=min_samples_split, \n",
        "                       min_samples_leaf=min_samples_leaf,\n",
        "                       max_features=max_features,\n",
        "                       criterion = criterion,\n",
        "                       splitter = splitter)\n",
        "\n",
        "# Initiate model\n",
        "dt_tun = DecisionTreeClassifier(random_state=42)\n",
        "model = RandomizedSearchCV(dt_tun, hyperparameters, cv=10, scoring='recall',random_state=42) \n",
        "model.fit(Xtrain, ytrain)\n",
        "y_pred_tun = model.predict(Xtest)\n",
        "model.best_estimator_"
      ],
      "id": "b80bb8ed"
    },
    {
      "cell_type": "markdown",
      "metadata": {
        "id": "214c9485"
      },
      "source": [
        "#### Random Forest"
      ],
      "id": "214c9485"
    },
    {
      "cell_type": "code",
      "execution_count": null,
      "metadata": {
        "id": "7eb4ad17"
      },
      "outputs": [],
      "source": [
        "# Initiate hyperparameters\n",
        "params = {'max_depth':[50],'n_estimators':[100,150], \n",
        "          'criterion':['gini', 'entropy']}\n",
        "# Initiate model\n",
        "model = GridSearchCV(estimator=RandomForestClassifier(random_state=42),\n",
        "                     param_grid=params,scoring='recall', cv=5)\n",
        "# Fit model\n",
        "model.fit(Xtrain,ytrain)\n",
        "y_pred = model.predict(Xtest)\n",
        "# Get best estimator\n",
        "model.best_estimator_"
      ],
      "id": "7eb4ad17"
    },
    {
      "cell_type": "markdown",
      "metadata": {
        "id": "563f03c8"
      },
      "source": [
        "#### KNN"
      ],
      "id": "563f03c8"
    },
    {
      "cell_type": "code",
      "execution_count": null,
      "metadata": {
        "id": "d3b00e27"
      },
      "outputs": [],
      "source": [
        "#List Hyperparameters that we want to tune.\n",
        "leaf_size = list(range(1,50))\n",
        "n_neighbors = list(range(1,30))\n",
        "p=[1,2]\n",
        "\n",
        "#Convert to dictionary\n",
        "hyperparameters = dict(leaf_size=leaf_size, n_neighbors=n_neighbors, p=p)\n",
        "\n",
        "#Create new KNN object\n",
        "KNN_2 = KNeighborsClassifier()\n",
        "\n",
        "#Use RandomizedSearchCV\n",
        "clf = RandomizedSearchCV(KNN_2, hyperparameters, cv=10, scoring = 'recall')\n",
        "\n",
        "#Fit the model\n",
        "best_model = clf.fit(X,y)\n",
        "# Get best estimator\n",
        "clf.best_estimator_"
      ],
      "id": "d3b00e27"
    },
    {
      "cell_type": "markdown",
      "metadata": {
        "id": "02af5090"
      },
      "source": [
        "#### SVC"
      ],
      "id": "02af5090"
    },
    {
      "cell_type": "code",
      "execution_count": null,
      "metadata": {
        "id": "173faa44"
      },
      "outputs": [],
      "source": [
        "# Hyperparameter lists to be tested\n",
        "kernel = ['linear', 'poly', 'rbf', 'sigmoid']\n",
        "C = [0.0001, 0.001, 0.002] \n",
        "gamma = ['scale', 'auto']\n",
        "\n",
        "#Convert to dictionary\n",
        "hyperparameters = dict(kernel=kernel, C=C, gamma=gamma)\n",
        "\n",
        "# Initiate model\n",
        "svc = SVC(random_state=42) \n",
        "model = RandomizedSearchCV(svc, hyperparameters, cv=5, random_state=42, \n",
        "                           scoring='recall')\n",
        "\n",
        "# Fitting Model & Evaluation\n",
        "model.fit(Xtrain, ytrain)\n",
        "y_pred = model.predict(Xtest)\n",
        "model.best_estimator_"
      ],
      "id": "173faa44"
    },
    {
      "cell_type": "markdown",
      "metadata": {
        "id": "e36057f4"
      },
      "source": [
        "#### XG Boost"
      ],
      "id": "e36057f4"
    },
    {
      "cell_type": "code",
      "execution_count": null,
      "metadata": {
        "id": "820251de"
      },
      "outputs": [],
      "source": [
        "# Hyper Parameter Optimization\n",
        "\n",
        "hyperparameters={\n",
        " \"learning_rate\"    : [0.05, 0.10, 0.15, 0.20, 0.25, 0.30 ] ,\n",
        " \"max_depth\"        : [ 3, 4, 5, 6, 8, 10, 12, 15],\n",
        " \"min_child_weight\" : [ 1, 3, 5, 7 ],\n",
        " \"gamma\"            : [ 0.0, 0.1, 0.2 , 0.3, 0.4 ],\n",
        " \"colsample_bytree\" : [ 0.3, 0.4, 0.5 , 0.7 ]    \n",
        "}\n",
        "# Initiate model\n",
        "xg = XGBClassifier(random_state=42,eval_metric = 'logloss')\n",
        "xg_tuned = RandomizedSearchCV(xg, hyperparameters, cv=5, random_state=42, scoring='recall')\n",
        "xg_tuned.fit(Xtrain,ytrain)\n",
        "\n",
        "# Predict & Evaluation\n",
        "y_pred = xg_tuned.predict(Xtest)#Check performa dari model\n",
        "xg_tuned.best_estimator_"
      ],
      "id": "820251de"
    },
    {
      "cell_type": "markdown",
      "metadata": {
        "id": "5f4fd367"
      },
      "source": [
        "#### Tuned Parameter"
      ],
      "id": "5f4fd367"
    },
    {
      "cell_type": "code",
      "execution_count": null,
      "metadata": {
        "id": "96bffb5c"
      },
      "outputs": [],
      "source": [
        "# Inititate best estimator\n",
        "lr_tune = LogisticRegression(C=0.0001, random_state=42)\n",
        "dt_tune = DecisionTreeClassifier(criterion='entropy', max_depth=4, max_features='sqrt',\n",
        "                       min_samples_leaf=12, min_samples_split=6,\n",
        "                       random_state=42)\n",
        "rf_tune = RandomForestClassifier(max_depth=50, random_state=42)\n",
        "knn_tune = KNeighborsClassifier(leaf_size=24, n_neighbors=3, p=1)\n",
        "#KNeighborsClassifier(algorithm='auto', leaf_size=1, metric='minkowski',\n",
        "                     #metric_params=None, n_jobs=None, n_neighbors=1, p=2,\n",
        "                     #weights='uniform')\n",
        "svc_tune = SVC(C=0.0001, kernel='linear', random_state=42)\n",
        "xgb_tune = XGBClassifier(base_score=0.5, booster='gbtree', colsample_bylevel=1,\n",
        "              colsample_bynode=1, colsample_bytree=0.3, eval_metric='logloss',\n",
        "              gamma=0.4, gpu_id=-1, importance_type='gain',\n",
        "              interaction_constraints='', learning_rate=0.15, max_delta_step=0,\n",
        "              max_depth=15, min_child_weight=1,\n",
        "              monotone_constraints='()', n_estimators=100, n_jobs=4,\n",
        "              num_parallel_tree=1, random_state=42, reg_alpha=0, reg_lambda=1,\n",
        "              scale_pos_weight=1, subsample=1, tree_method='exact',\n",
        "              validate_parameters=1, verbosity=None)\n",
        "\n",
        "# Create function to make the result as dataframe \n",
        "def model_comparison_tuned(X,y):  \n",
        "    \n",
        "    # Logistic Regression\n",
        "    lr_train_score, lr_test_score, lr_pr, lrtr_re, lrte_re, lr_f1, lr_auc = fit_evaluation(\n",
        "        lr_tune, Xtrain, ytrain, Xtest, ytest)\n",
        "    # Decision Tree\n",
        "    dt_train_score, dt_test_score, dt_pr, dttr_re, dtte_re, dt_f1, dt_auc = fit_evaluation(\n",
        "        dt_tune, Xtrain, ytrain, Xtest, ytest)\n",
        "    # Random Forest\n",
        "    rf_train_score, rf_test_score, rf_pr, rftr_re, rfte_re, rf_f1, rf_auc = fit_evaluation(\n",
        "        rf_tune, Xtrain, ytrain, Xtest, ytest)\n",
        "    # KNN\n",
        "    knn_train_score, knn_test_score, knn_pr, knntr_re, knnte_re, knn_f1, knn_auc = fit_evaluation(\n",
        "        knn_tune, Xtrain, ytrain, Xtest, ytest)\n",
        "    # SVC\n",
        "    svc_train_score, svc_test_score, svc_pr, svctr_re, svcte_re, svc_f1, svc_auc = fit_evaluation(\n",
        "        svc_tune, Xtrain, ytrain, Xtest, ytest)\n",
        "    # XGBoost\n",
        "    xgb_train_score, xgb_test_score, xgb_pr, xgbtr_re, xgbte_re, xgb_f1, xgb_auc = fit_evaluation(\n",
        "        xgb_tune, Xtrain, ytrain, Xtest, ytest)\n",
        "    \n",
        "    \n",
        "    models = ['Logistic Regression','Decision Tree','Random Forest',\n",
        "             'KNN','SVC','XGBoost']\n",
        "    train_score = [lr_train_score, dt_train_score, rf_train_score, \n",
        "                   knn_train_score, svc_train_score, xgb_train_score]\n",
        "    test_score = [lr_test_score, dt_test_score, rf_test_score,\n",
        "                  knn_test_score, svc_test_score, xgb_test_score]\n",
        "    precision = [lr_pr, dt_pr, rf_pr, knn_pr, svc_pr, xgb_pr]\n",
        "    recall_train = [lrtr_re, dttr_re, rftr_re, knntr_re, svctr_re, xgbtr_re]\n",
        "    recall_test = [lrte_re, dtte_re, rfte_re, knnte_re, svcte_re, xgbte_re]\n",
        "    f1 = [lr_f1, dt_f1, rf_f1, knn_f1, svc_f1, xgb_f1]\n",
        "    auc = [lr_auc, dt_auc, rf_auc, knn_auc, svc_auc, xgb_auc]\n",
        "    \n",
        "    model_comparison = pd.DataFrame(data=[models, train_score, test_score, \n",
        "                                          precision, recall_train, recall_test,\n",
        "                                          f1,auc]).T.rename({0: 'Model',\n",
        "                                                             1: 'Accuracy_Train',\n",
        "                                                             2: 'Accuracy_Test',\n",
        "                                                             3: 'Precision',\n",
        "                                                             4: 'Recall_Train',\n",
        "                                                             5: 'Recall_Test',\n",
        "                                                             6: 'F1 Score',\n",
        "                                                             7: 'AUC'\n",
        "                                                                                  }, axis=1)\n",
        "    \n",
        "    return model_comparison"
      ],
      "id": "96bffb5c"
    },
    {
      "cell_type": "code",
      "execution_count": null,
      "metadata": {
        "id": "b4e33618"
      },
      "outputs": [],
      "source": [
        "model_comparison_tuned(X,y)"
      ],
      "id": "b4e33618"
    },
    {
      "cell_type": "markdown",
      "metadata": {
        "id": "07648767"
      },
      "source": [
        "Decision Tree algorithm with hyper-parameter tuning has a good balance between its score, also neither underfitting nor overfitting."
      ],
      "id": "07648767"
    },
    {
      "cell_type": "markdown",
      "metadata": {
        "id": "1e5219c7"
      },
      "source": [
        "### Confusion matrix"
      ],
      "id": "1e5219c7"
    },
    {
      "cell_type": "code",
      "execution_count": null,
      "metadata": {
        "id": "NY-QwZpPDgaW"
      },
      "outputs": [],
      "source": [
        "from sklearn.metrics import confusion_matrix\n",
        "import matplotlib.pyplot as plt\n",
        "import seaborn as sns\n",
        "\n",
        "def get_confusion_matrix(model, X_train, y_train, X_test, y_test, labels=None):\n",
        "    # Train the model on the training data\n",
        "    model.fit(X_train, y_train)\n",
        "\n",
        "    # Make predictions on the test data\n",
        "    y_pred = model.predict(X_test)\n",
        "\n",
        "    # Create confusion matrix\n",
        "    cm = confusion_matrix(y_test, y_pred)\n",
        "\n",
        "    # Set display labels\n",
        "    if labels is None:\n",
        "        labels = ['Negative', 'Positive']\n",
        "    \n",
        "    # Plot the confusion matrix using Seaborn heatmap\n",
        "    plt.figure(figsize=(3, 3))\n",
        "    sns.heatmap(cm, annot=True, cmap='Blues', fmt='g', xticklabels=labels, yticklabels=labels)\n",
        "    plt.xlabel('Predicted labels')\n",
        "    plt.ylabel('True labels')\n",
        "    plt.title('Confusion Matrix')\n",
        "    plt.show()\n"
      ],
      "id": "NY-QwZpPDgaW"
    },
    {
      "cell_type": "code",
      "execution_count": null,
      "metadata": {
        "id": "X85AVzJwDzNG"
      },
      "outputs": [],
      "source": [
        "# After hyperparameter tuning\n",
        "get_confusion_matrix(dt_tune, Xtrain, ytrain, Xtest, ytest,labels=['on_time','late'])"
      ],
      "id": "X85AVzJwDzNG"
    },
    {
      "cell_type": "code",
      "execution_count": null,
      "metadata": {
        "id": "NqXeuEdFEEVx"
      },
      "outputs": [],
      "source": [
        "# Before hyperparameter tuning\n",
        "get_confusion_matrix(dt, Xtrain, ytrain, Xtest, ytest,labels=['on_time','late'])"
      ],
      "id": "NqXeuEdFEEVx"
    },
    {
      "cell_type": "markdown",
      "metadata": {
        "id": "61fbc5bb"
      },
      "source": [
        "### Feature Importance"
      ],
      "id": "61fbc5bb"
    },
    {
      "cell_type": "code",
      "execution_count": null,
      "metadata": {
        "id": "5880c309"
      },
      "outputs": [],
      "source": [
        "feat_importances = pd.Series(dt_tune.feature_importances_, index=X.columns)\n",
        "ax = feat_importances.nlargest(25).plot(kind='barh', figsize=(10, 8))\n",
        "ax.invert_yaxis()\n",
        "\n",
        "plt.xlabel('Score');\n",
        "plt.ylabel('Feature');\n",
        "plt.title('Feature Importance Score');"
      ],
      "id": "5880c309"
    },
    {
      "cell_type": "markdown",
      "metadata": {
        "id": "295c00ab"
      },
      "source": [
        "**Recommendation for E-Commerce :**\n",
        "- The operation team should add more manpower when there is a sale program, especially for the discount more than 10% and the parcel weight is 1 - 4 Kg.\n",
        "- The parcel should not be centralized in the warehouse block F, so that the handling is not too crowded which can cause the late shipment.\n",
        "- Adding more features can imporve model performance, such as delivery time estimation, delivery date, customer address, and courier.\n"
      ],
      "id": "295c00ab"
    }
  ],
  "metadata": {
    "colab": {
      "provenance": []
    },
    "kernelspec": {
      "display_name": "Python 3",
      "language": "python",
      "name": "python3"
    },
    "language_info": {
      "codemirror_mode": {
        "name": "ipython",
        "version": 3
      },
      "file_extension": ".py",
      "mimetype": "text/x-python",
      "name": "python",
      "nbconvert_exporter": "python",
      "pygments_lexer": "ipython3",
      "version": "3.7.10"
    },
    "papermill": {
      "default_parameters": {},
      "duration": 219.324921,
      "end_time": "2021-08-12T15:24:24.379410",
      "environment_variables": {},
      "exception": null,
      "input_path": "__notebook__.ipynb",
      "output_path": "__notebook__.ipynb",
      "parameters": {},
      "start_time": "2021-08-12T15:20:45.054489",
      "version": "2.3.3"
    }
  },
  "nbformat": 4,
  "nbformat_minor": 5
}